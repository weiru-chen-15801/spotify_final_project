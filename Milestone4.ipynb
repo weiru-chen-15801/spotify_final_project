{
 "cells": [
  {
   "cell_type": "code",
   "execution_count": 174,
   "metadata": {},
   "outputs": [
    {
     "name": "stderr",
     "output_type": "stream",
     "text": [
      "[nltk_data] Downloading package punkt to\n",
      "[nltk_data]     /Users/shuyuanxiao/nltk_data...\n",
      "[nltk_data]   Package punkt is already up-to-date!\n"
     ]
    }
   ],
   "source": [
    "import numpy as np\n",
    "import tensorflow as tf\n",
    "import pandas as pd\n",
    "import pylast\n",
    "from tensorflow.keras import datasets, layers, models\n",
    "import matplotlib.pyplot as plt\n",
    "import json\n",
    "import random\n",
    "from sklearn.neighbors import KNeighborsClassifier\n",
    "import math\n",
    "\n",
    "# for word to vec\n",
    "from nltk.tokenize import sent_tokenize, word_tokenize \n",
    "import warnings\n",
    "warnings.filterwarnings(action = 'ignore') \n",
    "  \n",
    "import gensim \n",
    "from gensim.models import Word2Vec \n",
    "import nltk\n",
    "nltk.download('punkt')\n",
    "\n",
    "\n",
    "from sklearn.model_selection import cross_val_predict\n",
    "from sklearn.model_selection import StratifiedKFold\n",
    "from sklearn.model_selection import train_test_split\n",
    "from sklearn.linear_model import LogisticRegression\n",
    "from sklearn.metrics import log_loss, accuracy_score\n",
    "from sklearn.feature_extraction.text import CountVectorizer\n",
    "from sklearn.feature_extraction.text import TfidfVectorizer\n",
    "from sklearn.svm import SVC\n",
    "from sklearn.decomposition import TruncatedSVD\n",
    "from sklearn.ensemble import RandomForestClassifier\n",
    "from sklearn.preprocessing import LabelEncoder\n",
    "\n",
    "\n",
    "import scikitplot.plotters as skplt\n",
    "# from xgboost import XGBClassifier\n",
    "import os\n",
    "\n",
    "# from keras.preprocessing.text import Tokenizer\n",
    "# from keras.preprocessing.sequence import pad_sequences\n",
    "# from keras.models import Sequential\n",
    "# from keras.layers import Dense, Embedding, LSTM\n",
    "# from keras.utils.np_utils import to_categorical\n",
    "# from keras.callbacks import ModelCheckpoint\n",
    "# from keras.models import load_model\n",
    "# from keras.optimizers import Adam"
   ]
  },
  {
   "cell_type": "code",
   "execution_count": 170,
   "metadata": {},
   "outputs": [],
   "source": [
    "### WITH ORIGINAL DATABASE ###\n",
    "# lyrics_labels = pd.read_csv(\"random_tracks_with_lyrics_labels.csv\")\n",
    "# lyrics_labels = lyrics_labels.dropna()\n",
    "# lyrics_labels = lyrics_labels.reset_index(drop=True)\n",
    "# lyrics_labels.head()\n",
    "\n",
    "# lyrics_labels = pd.read_csv(\"random_tracks_with_lyrics_labels.csv\")\n",
    "# lyrics_labels = lyrics_labels.dropna()\n",
    "# lyrics_labels = lyrics_labels.reset_index(drop=True)\n",
    "# lyrics_labels.head()\n",
    "\n",
    "# for i in range(lyrics_labels.shape[0]):\n",
    "#     lyr = lyrics_labels.iloc[i][\"Lyrics\"]\n",
    "#     lyr = lyr.replace(\"\\n\", \" \")"
   ]
  },
  {
   "cell_type": "code",
   "execution_count": 171,
   "metadata": {},
   "outputs": [
    {
     "data": {
      "text/html": [
       "<div>\n",
       "<style scoped>\n",
       "    .dataframe tbody tr th:only-of-type {\n",
       "        vertical-align: middle;\n",
       "    }\n",
       "\n",
       "    .dataframe tbody tr th {\n",
       "        vertical-align: top;\n",
       "    }\n",
       "\n",
       "    .dataframe thead th {\n",
       "        text-align: right;\n",
       "    }\n",
       "</style>\n",
       "<table border=\"1\" class=\"dataframe\">\n",
       "  <thead>\n",
       "    <tr style=\"text-align: right;\">\n",
       "      <th></th>\n",
       "      <th>Title</th>\n",
       "      <th>Artist</th>\n",
       "      <th>Lyrics</th>\n",
       "      <th>mood</th>\n",
       "    </tr>\n",
       "  </thead>\n",
       "  <tbody>\n",
       "    <tr>\n",
       "      <th>0</th>\n",
       "      <td>Get A Hold</td>\n",
       "      <td>A Tribe Called Quest</td>\n",
       "      <td>Drifting back... suddenly Drifting back (ju...</td>\n",
       "      <td>chill out</td>\n",
       "    </tr>\n",
       "    <tr>\n",
       "      <th>1</th>\n",
       "      <td>Electric Relaxation</td>\n",
       "      <td>A Tribe Called Quest</td>\n",
       "      <td>Relax yourself girl, please set-tle down ...</td>\n",
       "      <td>chill out</td>\n",
       "    </tr>\n",
       "    <tr>\n",
       "      <th>2</th>\n",
       "      <td>Check the Rhime</td>\n",
       "      <td>A Tribe Called Quest</td>\n",
       "      <td>Uh, uh, uh, uh Uh, uh, uh, check the rhyme ...</td>\n",
       "      <td>chill out</td>\n",
       "    </tr>\n",
       "    <tr>\n",
       "      <th>3</th>\n",
       "      <td>Juicy</td>\n",
       "      <td>The Notorious B.I.G.</td>\n",
       "      <td>(\"Fuck all you hoes!\" Get a grip, motherfuc...</td>\n",
       "      <td>chill out</td>\n",
       "    </tr>\n",
       "    <tr>\n",
       "      <th>4</th>\n",
       "      <td>Full Clip</td>\n",
       "      <td>Gang Starr</td>\n",
       "      <td>Big L, rest in peace! Do you wanna mess wit...</td>\n",
       "      <td>chill out</td>\n",
       "    </tr>\n",
       "  </tbody>\n",
       "</table>\n",
       "</div>"
      ],
      "text/plain": [
       "                 Title                Artist  \\\n",
       "0           Get A Hold  A Tribe Called Quest   \n",
       "1  Electric Relaxation  A Tribe Called Quest   \n",
       "2      Check the Rhime  A Tribe Called Quest   \n",
       "3                Juicy  The Notorious B.I.G.   \n",
       "4            Full Clip            Gang Starr   \n",
       "\n",
       "                                              Lyrics       mood  \n",
       "0     Drifting back... suddenly Drifting back (ju...  chill out  \n",
       "1       Relax yourself girl, please set-tle down ...  chill out  \n",
       "2     Uh, uh, uh, uh Uh, uh, uh, check the rhyme ...  chill out  \n",
       "3     (\"Fuck all you hoes!\" Get a grip, motherfuc...  chill out  \n",
       "4     Big L, rest in peace! Do you wanna mess wit...  chill out  "
      ]
     },
     "execution_count": 171,
     "metadata": {},
     "output_type": "execute_result"
    }
   ],
   "source": [
    "### WITH CLEANED DATABASE ###\n",
    "cleaned_lyrics_labels = pd.read_csv(\"cleaned_lyrics_labels.csv\")\n",
    "cleaned_lyrics_labels.head()"
   ]
  },
  {
   "cell_type": "code",
   "execution_count": 150,
   "metadata": {},
   "outputs": [
    {
     "data": {
      "text/plain": [
       "(7094, 1)"
      ]
     },
     "execution_count": 150,
     "metadata": {},
     "output_type": "execute_result"
    }
   ],
   "source": [
    "moods = cleaned_lyrics_labels[[\"mood\"]]\n",
    "moods.shape\n",
    "# cleaned_lyrics_labels['mood'].value_counts().plot(kind=\"bar\", rot=0)"
   ]
  },
  {
   "cell_type": "code",
   "execution_count": 148,
   "metadata": {},
   "outputs": [],
   "source": [
    "# lyrics_vecs = []\n",
    "# for i in range(cleaned_lyrics_labels.shape[0]):\n",
    "#     lyr = cleaned_lyrics_labels.iloc[i][\"Lyrics\"]\n",
    "    \n",
    "#     # iterate through each sentence in the file \n",
    "#     vecs = [] \n",
    "#     for i in sent_tokenize(lyr): \n",
    "#         temp = []       \n",
    "#         # tokenize the sentence into words \n",
    "#         for j in word_tokenize(i): \n",
    "#             temp.append(j.lower()) \n",
    "#         vecs.append(temp)\n",
    "    \n",
    "#     # for each song lyrics\n",
    "# #     model = gensim.models.Word2Vec(data,size=100, window=5, min_count=5, workers=4)\n",
    "#     model = gensim.models.Word2Vec(data,size=100, window=5, min_count=5)\n",
    "#     lyrics_vecs.append(np.mean(np.asarray(model1.wv.syn0), axis = 1))"
   ]
  },
  {
   "cell_type": "code",
   "execution_count": 120,
   "metadata": {},
   "outputs": [],
   "source": [
    "# # Create CBOW model \n",
    "# model1 = gensim.models.Word2Vec(data, min_count = 1,  \n",
    "#                               size = 100, window = 5) \n",
    "# # Print results \n",
    "# print(\"Cosine similarity between 'relax' \" + \n",
    "#                \"and 'girl' - CBOW : \", \n",
    "#     model1.similarity('relax', 'girl')) \n",
    "\n",
    "# # Create Skip Gram model \n",
    "# model2 = gensim.models.Word2Vec(data, min_count = 1, size = 100, \n",
    "#                                              window = 5, sg = 1) \n",
    "  \n",
    "# # Print results \n",
    "# print(\"Cosine similarity between 'relax' \" +\n",
    "#           \"and 'girl' - Skip Gram : \", \n",
    "#     model2.similarity('relax', 'girl')) "
   ]
  },
  {
   "cell_type": "code",
   "execution_count": 151,
   "metadata": {},
   "outputs": [],
   "source": [
    "# lyrics_vecs = np.array(lyrics_vecs)\n",
    "# lyrics_vecs.shape"
   ]
  },
  {
   "cell_type": "code",
   "execution_count": 152,
   "metadata": {},
   "outputs": [],
   "source": [
    "# random_forest_model = RandomForestClassifier(max_features=\"sqrt\", max_depth=10, n_estimators = 1000)\n",
    "# random_forest_model = random_forest_model.fit(lyrics_vecs, moods)"
   ]
  },
  {
   "cell_type": "code",
   "execution_count": 178,
   "metadata": {},
   "outputs": [
    {
     "data": {
      "text/plain": [
       "(5675, 4)"
      ]
     },
     "execution_count": 178,
     "metadata": {},
     "output_type": "execute_result"
    }
   ],
   "source": [
    "df_train, df_test = train_test_split(cleaned_lyrics_labels, test_size=0.2, random_state=8, stratify=cleaned_lyrics_labels['mood'])\n",
    "df_train.shape"
   ]
  },
  {
   "cell_type": "code",
   "execution_count": 186,
   "metadata": {},
   "outputs": [],
   "source": [
    "def evaluate_features(X, y, clf=None):\n",
    "    if clf is None:\n",
    "        clf = LogisticRegression()\n",
    "    \n",
    "    probas = cross_val_predict(clf, X, y, cv=StratifiedKFold(random_state=8), \n",
    "                              n_jobs=-1, method='predict_proba', verbose=2)\n",
    "    pred_indices = np.argmax(probas, axis=1)\n",
    "    classes = np.unique(y)\n",
    "    preds = classes[pred_indices]\n",
    "    print('Log loss: {}'.format(log_loss(y, probas)))\n",
    "    print('Accuracy: {}'.format(accuracy_score(y, preds)))\n",
    "    skplt.plot_confusion_matrix(y, preds, figsize=(12, 8))\n"
   ]
  },
  {
   "cell_type": "code",
   "execution_count": 157,
   "metadata": {},
   "outputs": [],
   "source": [
    "class MySentences(object):\n",
    "\n",
    "    def __init__(self, *arrays):\n",
    "        self.arrays = arrays\n",
    " \n",
    "    def __iter__(self):\n",
    "        for array in self.arrays:\n",
    "            for document in array:\n",
    "                for sent in nltk.sent_tokenize(document):\n",
    "                    yield nltk.word_tokenize(sent)\n",
    "\n",
    "def get_word2vec(sentences, location):\n",
    "\n",
    "    if os.path.exists(location):\n",
    "        print('Found {}'.format(location))\n",
    "        model = gensim.models.Word2Vec.load(location)\n",
    "        return model\n",
    "    \n",
    "    print('{} not found. training model'.format(location))\n",
    "    model = gensim.models.Word2Vec(sentences, size=100, window=5, min_count=5, workers=4)\n",
    "    print('Model done training. Saving to disk')\n",
    "    model.save(location)\n",
    "    return model"
   ]
  },
  {
   "cell_type": "code",
   "execution_count": 161,
   "metadata": {},
   "outputs": [
    {
     "name": "stdout",
     "output_type": "stream",
     "text": [
      "w2vmodel not found. training model\n",
      "Model done training. Saving to disk\n"
     ]
    }
   ],
   "source": [
    "w2vec = get_word2vec(\n",
    "    MySentences(\n",
    "        df_train['Lyrics'].values, \n",
    "        #df_test['Lyrics'].values  \n",
    "    ),\n",
    "    'w2vmodel'\n",
    ")"
   ]
  },
  {
   "cell_type": "code",
   "execution_count": 162,
   "metadata": {},
   "outputs": [],
   "source": [
    "class MyTokenizer:\n",
    "    def __init__(self):\n",
    "        pass\n",
    "    \n",
    "    def fit(self, X, y=None):\n",
    "        return self\n",
    "    \n",
    "    def transform(self, X):\n",
    "        transformed_X = []\n",
    "        for document in X:\n",
    "            tokenized_doc = []\n",
    "            for sent in nltk.sent_tokenize(document):\n",
    "                tokenized_doc += nltk.word_tokenize(sent)\n",
    "            transformed_X.append(np.array(tokenized_doc))\n",
    "        return np.array(transformed_X)\n",
    "    \n",
    "    def fit_transform(self, X, y=None):\n",
    "        return self.transform(X)\n",
    "\n",
    "class MeanEmbeddingVectorizer(object):\n",
    "    def __init__(self, word2vec):\n",
    "        self.word2vec = word2vec\n",
    "        # if a text is empty we should return a vector of zeros\n",
    "        # with the same dimensionality as all the other vectors\n",
    "        self.dim = len(word2vec.wv.syn0[0])\n",
    "\n",
    "    def fit(self, X, y=None):\n",
    "        return self\n",
    "\n",
    "    def transform(self, X):\n",
    "        X = MyTokenizer().fit_transform(X)\n",
    "        \n",
    "        return np.array([\n",
    "            np.mean([self.word2vec.wv[w] for w in words if w in self.word2vec.wv]\n",
    "                    or [np.zeros(self.dim)], axis=0)\n",
    "            for words in X\n",
    "        ])\n",
    "    \n",
    "    def fit_transform(self, X, y=None):\n",
    "        return self.transform(X)"
   ]
  },
  {
   "cell_type": "code",
   "execution_count": 172,
   "metadata": {},
   "outputs": [],
   "source": [
    "mean_embedding_vectorizer = MeanEmbeddingVectorizer(w2vec)\n",
    "mean_embedded = mean_embedding_vectorizer.fit_transform(df_train['Lyrics'])"
   ]
  },
  {
   "cell_type": "code",
   "execution_count": 175,
   "metadata": {},
   "outputs": [
    {
     "name": "stderr",
     "output_type": "stream",
     "text": [
      "[Parallel(n_jobs=-1)]: Using backend LokyBackend with 8 concurrent workers.\n",
      "[Parallel(n_jobs=-1)]: Done   3 out of   3 | elapsed:    1.7s finished\n"
     ]
    },
    {
     "name": "stdout",
     "output_type": "stream",
     "text": [
      "Log loss: 1.5531698910201825\n",
      "Accuracy: 0.47894273127753306\n"
     ]
    },
    {
     "data": {
      "image/png": "[encoded data removed]",
      "text/plain": [
       "<Figure size 432x288 with 2 Axes>"
      ]
     },
     "metadata": {
      "needs_background": "light"
     },
     "output_type": "display_data"
    }
   ],
   "source": [
    "evaluate_features(mean_embedded, df_train['mood'].values.ravel())"
   ]
  },
  {
   "cell_type": "code",
   "execution_count": 187,
   "metadata": {},
   "outputs": [
    {
     "name": "stderr",
     "output_type": "stream",
     "text": [
      "[Parallel(n_jobs=-1)]: Using backend LokyBackend with 8 concurrent workers.\n",
      "[Parallel(n_jobs=-1)]: Done   3 out of   3 | elapsed:   26.6s finished\n"
     ]
    },
    {
     "name": "stdout",
     "output_type": "stream",
     "text": [
      "Log loss: 1.013353654811758\n",
      "Accuracy: 0.7164757709251102\n"
     ]
    },
    {
     "data": {
      "image/png": "[encoded data removed]",
      "text/plain": [
       "<Figure size 864x576 with 2 Axes>"
      ]
     },
     "metadata": {
      "needs_background": "light"
     },
     "output_type": "display_data"
    }
   ],
   "source": [
    "evaluate_features(mean_embedded, df_train['mood'].values.ravel(),\n",
    "                  RandomForestClassifier(n_estimators=1000, max_depth=20, verbose=1))"
   ]
  },
  {
   "cell_type": "code",
   "execution_count": 185,
   "metadata": {},
   "outputs": [
    {
     "data": {
      "text/html": [
       "<div>\n",
       "<style scoped>\n",
       "    .dataframe tbody tr th:only-of-type {\n",
       "        vertical-align: middle;\n",
       "    }\n",
       "\n",
       "    .dataframe tbody tr th {\n",
       "        vertical-align: top;\n",
       "    }\n",
       "\n",
       "    .dataframe thead th {\n",
       "        text-align: right;\n",
       "    }\n",
       "</style>\n",
       "<table border=\"1\" class=\"dataframe\">\n",
       "  <thead>\n",
       "    <tr style=\"text-align: right;\">\n",
       "      <th></th>\n",
       "      <th>Title</th>\n",
       "      <th>Artist</th>\n",
       "      <th>Lyrics</th>\n",
       "      <th>mood</th>\n",
       "    </tr>\n",
       "  </thead>\n",
       "  <tbody>\n",
       "    <tr>\n",
       "      <th>0</th>\n",
       "      <td>Get A Hold</td>\n",
       "      <td>A Tribe Called Quest</td>\n",
       "      <td>Drifting back... suddenly Drifting back (ju...</td>\n",
       "      <td>chill out</td>\n",
       "    </tr>\n",
       "    <tr>\n",
       "      <th>1</th>\n",
       "      <td>Electric Relaxation</td>\n",
       "      <td>A Tribe Called Quest</td>\n",
       "      <td>Relax yourself girl, please set-tle down ...</td>\n",
       "      <td>chill out</td>\n",
       "    </tr>\n",
       "    <tr>\n",
       "      <th>2</th>\n",
       "      <td>Check the Rhime</td>\n",
       "      <td>A Tribe Called Quest</td>\n",
       "      <td>Uh, uh, uh, uh Uh, uh, uh, check the rhyme ...</td>\n",
       "      <td>chill out</td>\n",
       "    </tr>\n",
       "    <tr>\n",
       "      <th>3</th>\n",
       "      <td>Juicy</td>\n",
       "      <td>The Notorious B.I.G.</td>\n",
       "      <td>(\"Fuck all you hoes!\" Get a grip, motherfuc...</td>\n",
       "      <td>chill out</td>\n",
       "    </tr>\n",
       "    <tr>\n",
       "      <th>4</th>\n",
       "      <td>Full Clip</td>\n",
       "      <td>Gang Starr</td>\n",
       "      <td>Big L, rest in peace! Do you wanna mess wit...</td>\n",
       "      <td>chill out</td>\n",
       "    </tr>\n",
       "  </tbody>\n",
       "</table>\n",
       "</div>"
      ],
      "text/plain": [
       "                 Title                Artist  \\\n",
       "0           Get A Hold  A Tribe Called Quest   \n",
       "1  Electric Relaxation  A Tribe Called Quest   \n",
       "2      Check the Rhime  A Tribe Called Quest   \n",
       "3                Juicy  The Notorious B.I.G.   \n",
       "4            Full Clip            Gang Starr   \n",
       "\n",
       "                                              Lyrics       mood  \n",
       "0     Drifting back... suddenly Drifting back (ju...  chill out  \n",
       "1       Relax yourself girl, please set-tle down ...  chill out  \n",
       "2     Uh, uh, uh, uh Uh, uh, uh, check the rhyme ...  chill out  \n",
       "3     (\"Fuck all you hoes!\" Get a grip, motherfuc...  chill out  \n",
       "4     Big L, rest in peace! Do you wanna mess wit...  chill out  "
      ]
     },
     "execution_count": 185,
     "metadata": {},
     "output_type": "execute_result"
    }
   ],
   "source": [
    "cleaned_lyrics_labels.head()"
   ]
  },
  {
   "cell_type": "code",
   "execution_count": 197,
   "metadata": {},
   "outputs": [],
   "source": [
    "df1 = cleaned_lyrics_labels[cleaned_lyrics_labels['mood'] == \"chill out\"]\n",
    "df2 = cleaned_lyrics_labels[cleaned_lyrics_labels['mood'] == \"melancholy\"]\n",
    "df3 = cleaned_lyrics_labels[cleaned_lyrics_labels['mood'] == \"happy\"]\n",
    "df4 = cleaned_lyrics_labels[cleaned_lyrics_labels['mood'] == \"romantic\"]\n",
    "df5 = cleaned_lyrics_labels[cleaned_lyrics_labels['mood'] == \"upbeat\"]\n",
    "df6 = cleaned_lyrics_labels[cleaned_lyrics_labels['mood'] == \"dark\"]\n",
    "df7 = cleaned_lyrics_labels[cleaned_lyrics_labels['mood'] == \"dreamy\"]\n",
    "df8 = cleaned_lyrics_labels[cleaned_lyrics_labels['mood'] == \"party\"]\n",
    "df9 = cleaned_lyrics_labels[cleaned_lyrics_labels['mood'] == \"relaxing\"]\n",
    "df10 = cleaned_lyrics_labels[cleaned_lyrics_labels['mood'] == \"summer\"]"
   ]
  },
  {
   "cell_type": "code",
   "execution_count": 199,
   "metadata": {},
   "outputs": [],
   "source": [
    "songs_cill_out = df1.sample(n=10, random_state=1)\n",
    "songs_cmelancholy = df2.sample(n=10, random_state=1)\n",
    "songs_happy = df3.sample(n=10, random_state=1)\n",
    "songs_romantic = df4.sample(n=10, random_state=1)\n",
    "songs_upbeat = df5.sample(n=10, random_state=1)\n",
    "songs_dark = df6.sample(n=10, random_state=1)\n",
    "songs_dreamy = df7.sample(n=10, random_state=1)\n",
    "songs_party = df8.sample(n=10, random_state=1)\n",
    "songs_relaxing = df9.sample(n=10, random_state=1)\n",
    "songs_summer = df10.sample(n=10, random_state=1)"
   ]
  },
  {
   "cell_type": "code",
   "execution_count": null,
   "metadata": {},
   "outputs": [],
   "source": [
    "### Other TF-IDF by WEIRU ###\n",
    "# Train-test split\n",
    "\n",
    "#cleaned_lyrics_labels_train, _ = train_test_split(cleaned_lyrics_labels, test_size=0.2, random_state=209, stratify=cleaned_lyrics_labels['mood'])"
   ]
  },
  {
   "cell_type": "code",
   "execution_count": 210,
   "metadata": {},
   "outputs": [],
   "source": [
    "# import matplotlib.pyplot as plt\n",
    "\n",
    "# from sklearn.model_selection import cross_val_predict\n",
    "# from sklearn.model_selection import StratifiedKFold\n",
    "# from sklearn.model_selection import train_test_split\n",
    "# from sklearn.linear_model import LogisticRegression\n",
    "# from sklearn.metrics import log_loss, accuracy_score\n",
    "# from sklearn.feature_extraction.text import CountVectorizer\n",
    "# from sklearn.feature_extraction.text import TfidfVectorizer\n",
    "# from sklearn.svm import SVC\n",
    "# from sklearn.decomposition import TruncatedSVD\n",
    "# from sklearn.ensemble import RandomForestClassifier\n",
    "# from sklearn.preprocessing import LabelEncoder\n",
    "\n",
    "# import gensim\n",
    "\n",
    "# import scikitplot as skplt\n",
    "\n",
    "# import nltk\n",
    "\n",
    "# #from xgboost import XGBClassifier\n",
    "\n",
    "# import os\n",
    "\n",
    "# from keras.preprocessing.text import Tokenizer\n",
    "# from keras.preprocessing.sequence import pad_sequences\n",
    "# from keras.models import Sequential\n",
    "# from keras.layers import Dense, Embedding, LSTM\n",
    "# from keras.utils.np_utils import to_categorical\n",
    "# from keras.callbacks import ModelCheckpoint\n",
    "# from keras.models import load_model\n",
    "# from keras.optimizers import Adam\n",
    "\n",
    "\n",
    "# count_vectorizer = TfidfVectorizer(\n",
    "#     analyzer=\"word\", tokenizer=nltk.word_tokenize,\n",
    "#     preprocessor=None, stop_words='english', max_features=None)    \n",
    "\n",
    "# tfidf = count_vectorizer.fit_transform(cleaned_lyrics_labels_train['Lyrics'])\n",
    "\n",
    "# len(count_vectorizer.get_feature_names())"
   ]
  },
  {
   "cell_type": "code",
   "execution_count": 202,
   "metadata": {},
   "outputs": [],
   "source": [
    "# svd = TruncatedSVD(n_components=25, n_iter=25, random_state=12)\n",
    "# truncated_tfidf = svd.fit_transform(tfidf)"
   ]
  },
  {
   "cell_type": "code",
   "execution_count": 206,
   "metadata": {},
   "outputs": [],
   "source": [
    "# def evaluate_features(X, y, clf=None):\n",
    "#     \"\"\"General helper function for evaluating effectiveness of passed features in ML model\n",
    "    \n",
    "#     Prints out Log loss, accuracy, and confusion matrix with 3-fold stratified cross-validation\n",
    "    \n",
    "#     Args:\n",
    "#         X (array-like): Features array. Shape (n_samples, n_features)\n",
    "        \n",
    "#         y (array-like): Labels array. Shape (n_samples,)\n",
    "        \n",
    "#         clf: Classifier to use. If None, default Log reg is use.\n",
    "#     \"\"\"\n",
    "#     if clf is None:\n",
    "#         clf = LogisticRegression()\n",
    "    \n",
    "#     probas = cross_val_predict(clf, X, y, cv=StratifiedKFold(random_state=8), \n",
    "#                               n_jobs=-1, method='predict_proba', verbose=2)\n",
    "#     pred_indices = np.argmax(probas, axis=1)\n",
    "#     classes = np.unique(y)\n",
    "#     preds = classes[pred_indices]\n",
    "#     print('Log loss: {}'.format(log_loss(y, probas)))\n",
    "#     print('Accuracy: {}'.format(accuracy_score(y, preds)))\n",
    "#     skplt.metrics.plot_confusion_matrix(y, preds, figsize=(12,8))\n",
    "#     skplt.metrics.plot_precision_recall_curve(y, probas, figsize=(12,8))\n",
    "#     plt.show()\n",
    "\n",
    "\n",
    "# evaluate_features(truncated_tfidf, cleaned_lyrics_labels_train['mood'].values.ravel())"
   ]
  },
  {
   "cell_type": "code",
   "execution_count": 207,
   "metadata": {},
   "outputs": [],
   "source": [
    "# evaluate_features(truncated_tfidf, cleaned_lyrics_labels_train['mood'].values.ravel(), \n",
    "#                   RandomForestClassifier(n_estimators=1000, max_depth=25, verbose=1))"
   ]
  },
  {
   "cell_type": "code",
   "execution_count": 208,
   "metadata": {},
   "outputs": [],
   "source": [
    "# from sklearn.ensemble import AdaBoostClassifier\n",
    "# from sklearn.tree import DecisionTreeClassifier\n",
    "\n",
    "# evaluate_features(truncated_tfidf, cleaned_lyrics_labels_train['mood'].values.ravel(), \n",
    "#                   AdaBoostClassifier(algorithm='SAMME.R', base_estimator=DecisionTreeClassifier(max_depth=25),\n",
    "#         learning_rate=1.0, n_estimators=1000, random_state=209))"
   ]
  },
  {
   "cell_type": "code",
   "execution_count": 209,
   "metadata": {},
   "outputs": [],
   "source": [
    "# evaluate_features(tfidf, cleaned_lyrics_labels_train['mood'].values.ravel(), \n",
    "#                   SVC(kernel='linear', probability=True))"
   ]
  },
  {
   "cell_type": "code",
   "execution_count": null,
   "metadata": {},
   "outputs": [],
   "source": []
  },
  {
   "cell_type": "code",
   "execution_count": null,
   "metadata": {},
   "outputs": [],
   "source": []
  }
 ],
 "metadata": {
  "kernelspec": {
   "display_name": "Python 3",
   "language": "python",
   "name": "python3"
  },
  "language_info": {
   "codemirror_mode": {
    "name": "ipython",
    "version": 3
   },
   "file_extension": ".py",
   "mimetype": "text/x-python",
   "name": "python",
   "nbconvert_exporter": "python",
   "pygments_lexer": "ipython3",
   "version": "3.7.3"
  }
 },
 "nbformat": 4,
 "nbformat_minor": 2
}
