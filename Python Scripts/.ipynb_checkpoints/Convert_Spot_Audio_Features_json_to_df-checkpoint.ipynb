{
 "cells": [
  {
   "cell_type": "markdown",
   "metadata": {},
   "source": [
    "## Takes json files of audio features from Spotify and extracts features to dataframes, 1 dataframe for each playlist"
   ]
  },
  {
   "cell_type": "code",
   "execution_count": 8,
   "metadata": {
    "ExecuteTime": {
     "end_time": "2019-11-20T01:30:52.569979Z",
     "start_time": "2019-11-20T01:30:51.839258Z"
    }
   },
   "outputs": [],
   "source": [
    "import json\n",
    "import pandas as pd"
   ]
  },
  {
   "cell_type": "markdown",
   "metadata": {},
   "source": [
    "Making a list of the names of the json files downloaded from Spotify "
   ]
  },
  {
   "cell_type": "code",
   "execution_count": 9,
   "metadata": {
    "ExecuteTime": {
     "end_time": "2019-11-20T01:30:52.575680Z",
     "start_time": "2019-11-20T01:30:52.572455Z"
    }
   },
   "outputs": [],
   "source": [
    "# make list of the names of the json files downloaded from Spotify \n",
    "playlists = []\n",
    "for i in range(100,200):\n",
    "    pl = 'playlist_'+str(i)+'.json'\n",
    "    playlists.append(pl)"
   ]
  },
  {
   "cell_type": "markdown",
   "metadata": {},
   "source": [
    "Opening each file and extracting the audio features to a dataframe"
   ]
  },
  {
   "cell_type": "code",
   "execution_count": 10,
   "metadata": {
    "ExecuteTime": {
     "end_time": "2019-11-20T01:30:52.869558Z",
     "start_time": "2019-11-20T01:30:52.762249Z"
    }
   },
   "outputs": [],
   "source": [
    "# Given json data files as playlist_1, playlist_2 ...\n",
    "# read in file, convert to data frame in list of dfs, dfs_pls_raw\n",
    "dfs_trunc_raw=[]\n",
    "for pl in playlists:\n",
    "    with open(pl) as json_file:\n",
    "        data = json.load(json_file)\n",
    "    dfs_trunc_raw.append(pd.DataFrame(data['audio_features']))"
   ]
  },
  {
   "cell_type": "markdown",
   "metadata": {},
   "source": [
    "Selecting the relevant audio features to keep and make new dataframes:  "
   ]
  },
  {
   "cell_type": "code",
   "execution_count": 11,
   "metadata": {
    "ExecuteTime": {
     "end_time": "2019-11-14T19:49:24.576828Z",
     "start_time": "2019-11-14T19:49:24.573717Z"
    }
   },
   "outputs": [],
   "source": [
    "c= ['id','acousticness', 'danceability', 'speechiness','instrumentalness','liveness', 'energy','valence',\n",
    "        'duration_ms','key','mode', 'loudness', \n",
    "        'tempo', 'time_signature']"
   ]
  },
  {
   "cell_type": "code",
   "execution_count": 12,
   "metadata": {
    "ExecuteTime": {
     "end_time": "2019-11-14T19:49:25.209987Z",
     "start_time": "2019-11-14T19:49:25.123506Z"
    }
   },
   "outputs": [],
   "source": [
    "# Given raw dfs in list dfs_pls_raw\n",
    "# create a new list of dfs , dfs_pls_processed, with selected columns\n",
    "dfs_trunc_short = []\n",
    "for df in dfs_trunc_raw:\n",
    "    df2 = df.copy()\n",
    "    df2 = df2[c]\n",
    "    dfs_trunc_short.append(df2)"
   ]
  },
  {
   "cell_type": "markdown",
   "metadata": {},
   "source": [
    "Adding colums for artist and song name that were not in the json files but were saved earlier\n",
    "to files in the preprocessing before download"
   ]
  },
  {
   "cell_type": "code",
   "execution_count": 2,
   "metadata": {
    "ExecuteTime": {
     "end_time": "2019-11-14T19:49:41.216349Z",
     "start_time": "2019-11-14T19:49:40.852076Z"
    }
   },
   "outputs": [],
   "source": [
    "# Adding columns for artist and song name:\n",
    "dfs_plus_trunc = []\n",
    "for i, pl in enumerate(dfs_trunc_short):\n",
    "    a_name = 'artist_'+str(i+100)+'.txt'\n",
    "    t_name = 'track_names_'+str(i+100)+'.txt'  \n",
    "    da = pd.read_csv(a_name, names=['artist'])\n",
    "    dn = pd.read_csv(t_name, names=['track_name'])\n",
    "    dfs_plus_trunc.append(pd.concat([dn, da, pl], axis = 1))"
   ]
  },
  {
   "cell_type": "markdown",
   "metadata": {},
   "source": [
    "Writing Dataframes to csv files ready to be used as input to our neural network"
   ]
  },
  {
   "cell_type": "code",
   "execution_count": 23,
   "metadata": {
    "ExecuteTime": {
     "end_time": "2019-11-14T21:17:08.576374Z",
     "start_time": "2019-11-14T21:17:08.263098Z"
    }
   },
   "outputs": [],
   "source": [
    "#Writing each df in dfs_plus_trunc to a file\n",
    "for i, df in enumerate(dfs_plus_trunc):\n",
    "    name = 'df_playlist_features_'+str(i)\n",
    "    df.to_csv(name)"
   ]
  }
 ],
 "metadata": {
  "kernelspec": {
   "display_name": "Python 3",
   "language": "python",
   "name": "python3"
  },
  "language_info": {
   "codemirror_mode": {
    "name": "ipython",
    "version": 3
   },
   "file_extension": ".py",
   "mimetype": "text/x-python",
   "name": "python",
   "nbconvert_exporter": "python",
   "pygments_lexer": "ipython3",
   "version": "3.7.4"
  }
 },
 "nbformat": 4,
 "nbformat_minor": 2
}
