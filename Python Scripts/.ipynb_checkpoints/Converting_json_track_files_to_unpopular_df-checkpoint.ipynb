{
 "cells": [
  {
   "cell_type": "markdown",
   "metadata": {},
   "source": [
    "## Converting json track files to an unpopular dataframef##"
   ]
  },
  {
   "cell_type": "code",
   "execution_count": 1,
   "metadata": {},
   "outputs": [],
   "source": [
    "import json\n",
    "import pandas as pd\n",
    "import os"
   ]
  },
  {
   "cell_type": "code",
   "execution_count": 2,
   "metadata": {},
   "outputs": [],
   "source": [
    "# make list (1 to 100) with  names track_info_1.json, track_info_2.json ... \n",
    "track_info_list = []\n",
    "for i in range(1,101):\n",
    "    pl = 'track_info_'+str(i)+'.json'\n",
    "    track_info_list.append(pl)"
   ]
  },
  {
   "cell_type": "code",
   "execution_count": 6,
   "metadata": {},
   "outputs": [],
   "source": [
    "# open each json track file from the 1st 100 playlist downloaded from Spotify with script pop.sh\n",
    "with open('track_info_1.json') as json_file:\n",
    "        data = json.load(json_file)"
   ]
  },
  {
   "cell_type": "code",
   "execution_count": 8,
   "metadata": {},
   "outputs": [],
   "source": [
    "# Given json data files as track_info_1.json, track_info_2.json\n",
    "# read in file, make list of tuples ls_pop (playlist number,. track name, track popularity)\n",
    "ls_pop=[]\n",
    "for j, track in enumerate(track_info_list):\n",
    "    with open(track) as json_file:\n",
    "        data = json.load(json_file)\n",
    "        for i, t in enumerate(data['tracks']):\n",
    "            ls_pop.append((j+1, t['name'], t['id'], t['popularity']))\n"
   ]
  },
  {
   "cell_type": "code",
   "execution_count": 10,
   "metadata": {},
   "outputs": [],
   "source": [
    "# Make dataframe from tuples\n",
    "playlist = []\n",
    "name =[]\n",
    "id_=[]\n",
    "pop=[]\n",
    "for track in ls_pop:\n",
    "    name.append(track[1])\n",
    "    id_.append(track[2])\n",
    "    pop.append(track[3])\n",
    "    playlist.append(track[0])\n",
    "\n",
    "dict ={'playlist':playlist, 'name':name, 'id':id_, 'popularity':pop}\n",
    "frame = pd.DataFrame(dict)    "
   ]
  },
  {
   "cell_type": "code",
   "execution_count": 18,
   "metadata": {},
   "outputs": [],
   "source": [
    "# make second dataframe just containing songs with popularity of 10 or lower\n",
    "frame2 = frame[frame['popularity'] < 11]"
   ]
  },
  {
   "cell_type": "code",
   "execution_count": 19,
   "metadata": {},
   "outputs": [],
   "source": [
    "# write data frame to disk.\n",
    "frame2.to_csv('Unpopular_Songs')"
   ]
  }
 ],
 "metadata": {
  "kernelspec": {
   "display_name": "Python 3",
   "language": "python",
   "name": "python3"
  },
  "language_info": {
   "codemirror_mode": {
    "name": "ipython",
    "version": 3
   },
   "file_extension": ".py",
   "mimetype": "text/x-python",
   "name": "python",
   "nbconvert_exporter": "python",
   "pygments_lexer": "ipython3",
   "version": "3.7.4"
  }
 },
 "nbformat": 4,
 "nbformat_minor": 2
}
