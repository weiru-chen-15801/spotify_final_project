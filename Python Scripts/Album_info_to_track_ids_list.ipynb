{
 "cells": [
  {
   "cell_type": "markdown",
   "metadata": {},
   "source": [
    "## Extracts Track ids from JSON Album info"
   ]
  },
  {
   "cell_type": "code",
   "execution_count": 1,
   "metadata": {},
   "outputs": [],
   "source": [
    "import json\n",
    "import pandas as pd\n",
    "import glob"
   ]
  },
  {
   "cell_type": "code",
   "execution_count": 1,
   "metadata": {},
   "outputs": [],
   "source": [
    "# I have a bunch of files labeled alb_tracks_1.json, alb_tracks_1.json ...The files\n",
    "# are the result of the bash script gt.sh.\n",
    "# Each contains the json for the tracks from 1 new release album downloaded from spotify.\n",
    "# This script extracts from each json file the track ids and writes them to a text file \n",
    "# named alb_track_ids_1.txt ..., one for each album\n",
    "\n",
    "for i in range(1,100):\n",
    "    name_in = 'alb_tracks_'+str(i)+'.json'\n",
    "    name_out = 'alb_track_ids_'+str(i)+'.txt'\n",
    "    with open(name_in) as json_file:\n",
    "        data = json.load(json_file)\n",
    "    with open(name_out, 'w') as f:\n",
    "        for item in data['items']:\n",
    "            f.write(item['id']+'\\n')\n",
    "\n"
   ]
  },
  {
   "cell_type": "code",
   "execution_count": 2,
   "metadata": {},
   "outputs": [],
   "source": [
    "# does the the same for track names\n",
    "for i in range(1,100):\n",
    "    name_in = 'alb_tracks_'+str(i)+'.json'\n",
    "    name_out = 'alb_track_names_'+str(i)+'.txt'\n",
    "    with open(name_in) as json_file:\n",
    "        data = json.load(json_file)\n",
    "    with open(name_out, 'w') as f:\n",
    "        for item in data['items']:\n",
    "            f.write(item['name']+'\\n')\n",
    "\n"
   ]
  },
  {
   "cell_type": "code",
   "execution_count": 14,
   "metadata": {},
   "outputs": [],
   "source": [
    "# Makes list of track id text files\n",
    "with open('nr_ids.txt', mode='wt', encoding='utf-8') as myfile:\n",
    "        for i in range(1,100):\n",
    "            name = 'alb_track_ids_'+str(i)+'.txt'\n",
    "            myfile.write(name+'\\n')\n",
    "    "
   ]
  },
  {
   "cell_type": "code",
   "execution_count": null,
   "metadata": {},
   "outputs": [],
   "source": []
  }
 ],
 "metadata": {
  "kernelspec": {
   "display_name": "Python 3",
   "language": "python",
   "name": "python3"
  },
  "language_info": {
   "codemirror_mode": {
    "name": "ipython",
    "version": 3
   },
   "file_extension": ".py",
   "mimetype": "text/x-python",
   "name": "python",
   "nbconvert_exporter": "python",
   "pygments_lexer": "ipython3",
   "version": "3.7.4"
  }
 },
 "nbformat": 4,
 "nbformat_minor": 2
}
