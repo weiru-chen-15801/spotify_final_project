{
 "cells": [
  {
   "cell_type": "markdown",
   "metadata": {},
   "source": [
    "## Creating a list of 100 Spotify playlists to down load audio features for"
   ]
  },
  {
   "cell_type": "code",
   "execution_count": 2,
   "metadata": {
    "ExecuteTime": {
     "end_time": "2019-11-17T16:12:59.992860Z",
     "start_time": "2019-11-17T16:12:59.987205Z"
    }
   },
   "outputs": [],
   "source": [
    "import pandas as pd"
   ]
  },
  {
   "cell_type": "markdown",
   "metadata": {},
   "source": [
    "Reading data for the first 100 playlist into a dataframe"
   ]
  },
  {
   "cell_type": "code",
   "execution_count": 49,
   "metadata": {
    "ExecuteTime": {
     "end_time": "2019-11-17T16:13:00.784014Z",
     "start_time": "2019-11-17T16:13:00.735920Z"
    }
   },
   "outputs": [],
   "source": [
    "# Reads into a dataframe the first 100 playlist from the Million playlist database\n",
    "df_100p = pd.read_csv('first_100_playlists.csv', encoding='utf-8')"
   ]
  },
  {
   "cell_type": "markdown",
   "metadata": {},
   "source": [
    "Making separate song files for each playlist for the first 100 playlists"
   ]
  },
  {
   "cell_type": "code",
   "execution_count": 1,
   "metadata": {
    "ExecuteTime": {
     "end_time": "2019-11-17T16:13:44.455971Z",
     "start_time": "2019-11-17T16:13:44.010400Z"
    }
   },
   "outputs": [],
   "source": [
    "# Takes the dataframe and writes the: track_ids, track_names, and artists for each playlist\n",
    "# to separate csv files, 3 for each playlist. The ids file will be used by a bash script to access\n",
    "# song features from spotify. If a play list is longer than 100 songs,only writes the first 100 songs are taken\n",
    "# This can be changed in line2: .iloc[:100,:] -> .iloc[:,:] \n",
    "for i in range(0, 100):\n",
    "    df = df_100p[df_100p.pid == i].iloc[:99,:]\n",
    "    #print(i, df.shape[0])\n",
    "    track_ids = df.track_uri.str.replace('spotify:track:','')\n",
    "    track_names = df.track_name\n",
    "    artists = df.artist_name\n",
    "    n_track_ids = 'track_ids_'+str(i)+'.txt'\n",
    "    n_track_names = 'track_names_'+str(i)+'.txt'\n",
    "    n_artists = 'artist_'+str(i)+'.txt'\n",
    "    with open(n_track_ids, mode='wt', encoding='utf-8') as myfile:\n",
    "        myfile.write('\\n'.join(track_ids))\n",
    "    with open(n_track_names, mode='wt', encoding='utf-8') as myfile:\n",
    "        myfile.write('\\n'.join(track_names))\n",
    "    with open(n_artists, mode='wt', encoding='utf-8') as myfile:\n",
    "        myfile.write('\\n'.join(artists))"
   ]
  },
  {
   "cell_type": "markdown",
   "metadata": {},
   "source": [
    "Creating a text file of the names of the playlist files just created to be read by the bash script that will\n",
    "download audio features from Soptify"
   ]
  },
  {
   "cell_type": "code",
   "execution_count": 51,
   "metadata": {
    "ExecuteTime": {
     "end_time": "2019-11-17T16:35:33.943712Z",
     "start_time": "2019-11-17T16:35:33.938685Z"
    }
   },
   "outputs": [],
   "source": [
    "# Makes a text file named \"playlists.txt\" that is a list of files to be read by m_rsa.sh,\n",
    "# the bash script that will get song features for the songs for each file in playlists.txt\n",
    "# from spotify. Each line is the name of one track_ids file for one playlist.\n",
    "# Example, this file will contain: track_ids_0.txt, track_ids_1.txt, track_ids_2.txt ...\n",
    "with open('playlists.txt', mode='wt', encoding='utf-8') as myfile:\n",
    "        for i in range(100):\n",
    "            name = 'track_ids_'+str(i)+'.txt'\n",
    "            myfile.write(name+'\\n')\n",
    "    "
   ]
  },
  {
   "cell_type": "code",
   "execution_count": null,
   "metadata": {},
   "outputs": [],
   "source": []
  }
 ],
 "metadata": {
  "kernelspec": {
   "display_name": "Python 3",
   "language": "python",
   "name": "python3"
  },
  "language_info": {
   "codemirror_mode": {
    "name": "ipython",
    "version": 3
   },
   "file_extension": ".py",
   "mimetype": "text/x-python",
   "name": "python",
   "nbconvert_exporter": "python",
   "pygments_lexer": "ipython3",
   "version": "3.7.4"
  }
 },
 "nbformat": 4,
 "nbformat_minor": 2
}
