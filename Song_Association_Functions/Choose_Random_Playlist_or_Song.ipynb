{
 "cells": [
  {
   "cell_type": "markdown",
   "metadata": {},
   "source": [
    "#### Three functions present ####\n",
    "1 choose_random_playlist - chooses randomly a playlist from the million in the songs file  \n",
    "2 choose_random_songs - chooses random songs (n) from million playlist  \n",
    "3 choose_random_songs - choose_random_song (single song) from million playlists"
   ]
  },
  {
   "cell_type": "code",
   "execution_count": null,
   "metadata": {},
   "outputs": [],
   "source": [
    "import numpy as np\n",
    "import pandas as pd\n",
    "import os"
   ]
  },
  {
   "cell_type": "code",
   "execution_count": null,
   "metadata": {},
   "outputs": [],
   "source": [
    "# make a list of the playlist files songs0.txt, songs1.txt, ...\n",
    "filelist = []\n",
    "for i in range(10):  # search 100,000 playlists\n",
    "    file = 'songs'+str(i)+'.csv'\n",
    "    filelist.append(file)"
   ]
  },
  {
   "cell_type": "code",
   "execution_count": 102,
   "metadata": {},
   "outputs": [],
   "source": [
    "def choose_random_playlist(filelist):\n",
    "    '''Function that searchs playlists in songs files returns a random playlist\n",
    "        Input: \n",
    "           filelist (list) list of file names to read playlists from\n",
    "\n",
    "        Output:\n",
    "           file (string) name of file playlist drawn from\n",
    "           id (int) number of playlist chosen in that file\n",
    "           df2 (pandas dataframe) a dataframe containing the playlist\n",
    "    '''\n",
    "    a = np.random.choice(list(range(len(filelist))))\n",
    "    file = filelist[a]\n",
    "    df = pd.read_csv('RAW_DATA/songs/'+ file, encoding='utf-8')\n",
    "    g = df.groupby('pid')\n",
    "    playlists = []\n",
    "    for id, group in g:\n",
    "        playlists.append(id)\n",
    "    chosen_playlist_id = np.random.choice(list(range(len(playlists))))\n",
    "    g = list(g)\n",
    "    df2 = g[chosen_playlist_id][1]    \n",
    "    return file, id, df2"
   ]
  },
  {
   "cell_type": "code",
   "execution_count": 177,
   "metadata": {},
   "outputs": [],
   "source": [
    "def choose_random_songs(filelist, n):\n",
    "    '''Function that searchs playlists in songs files returns a n random songs\n",
    "        Input: \n",
    "           filelist (list) list of file names to read playlists from\n",
    "           n (int) number of songs to return\n",
    "           \n",
    "        Output:\n",
    "           df_random (pandas dataframe) a dataframe containing n random songs \n",
    "    '''\n",
    "    df_random = pd.DataFrame()\n",
    "    for i in range(n):\n",
    "        file, id, df = choose_random_playlist(filelist)\n",
    "        df.insert(0,'file', file)\n",
    "        df_random = pd.concat([df_random, df.sample(1)])\n",
    "    return df_random"
   ]
  },
  {
   "cell_type": "code",
   "execution_count": 178,
   "metadata": {},
   "outputs": [],
   "source": [
    "def choose_random_song(filelist):\n",
    "    '''Function that searchs playlists in songs files returns a single random song\n",
    "        Input: \n",
    "           filelist (list) list of file names to read playlists from\n",
    "           \n",
    "        Output:\n",
    "           track_id (string) the spotify track id of the randomly selected song\n",
    "           track_row (pandas dataframe) contains the row of the song selected\n",
    "    '''\n",
    "    file, id, df = choose_random_playlist(filelist)\n",
    "    track_row = df.sample(1)\n",
    "    track_id = track_row['track_uri'].iloc[0]\n",
    "    return track_id, track_row"
   ]
  },
  {
   "cell_type": "code",
   "execution_count": null,
   "metadata": {},
   "outputs": [],
   "source": []
  }
 ],
 "metadata": {
  "kernelspec": {
   "display_name": "Python 3",
   "language": "python",
   "name": "python3"
  },
  "language_info": {
   "codemirror_mode": {
    "name": "ipython",
    "version": 3
   },
   "file_extension": ".py",
   "mimetype": "text/x-python",
   "name": "python",
   "nbconvert_exporter": "python",
   "pygments_lexer": "ipython3",
   "version": "3.7.4"
  }
 },
 "nbformat": 4,
 "nbformat_minor": 2
}
