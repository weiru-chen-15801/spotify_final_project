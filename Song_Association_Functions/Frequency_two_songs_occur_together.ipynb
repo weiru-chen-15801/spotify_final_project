{
 "cells": [
  {
   "cell_type": "markdown",
   "metadata": {},
   "source": [
    "#### Two functions present ####\n",
    "1  frequency_songs_together_by_name  \n",
    "2  frequency_songs_together_by_id\n",
    "\n",
    "These functions allow the user to input eather the names or the Spotify ID numbers of two songs, and they return\n",
    "the fraction of times those two songs occur together in the million playlists"
   ]
  },
  {
   "cell_type": "code",
   "execution_count": 1,
   "metadata": {},
   "outputs": [],
   "source": [
    "import numpy as np\n",
    "import pandas as pd\n",
    "import os"
   ]
  },
  {
   "cell_type": "code",
   "execution_count": 108,
   "metadata": {},
   "outputs": [],
   "source": [
    "# make a list of the playlist files songs0.txt, songs1.txt, ...\n",
    "filelist = []\n",
    "for i in range(10):  # search 100,000 playlists\n",
    "    file = 'songs'+str(i)+'.csv'\n",
    "    filelist.append(file)"
   ]
  },
  {
   "cell_type": "code",
   "execution_count": 80,
   "metadata": {},
   "outputs": [],
   "source": [
    "def frequency_songs_together_by_name(song1, song2, filelist):\n",
    "    '''Function that searchs playlists in songs files and returns the fraction of times the\n",
    "       two input songs appear together on the same playlist and the numbers of the playlists\n",
    "\n",
    "        Input: \n",
    "           song1 (string) name of one of the song to search for\n",
    "           song2 (string) name of the other song to search for\n",
    "           filelist (list) list of file names to read playlists from\n",
    "\n",
    "        Output:\n",
    "           num_playlists_searched (int), number of playlists searched\n",
    "           num_playlists_occuring_together (int), number of playlists with both song1 and song2\n",
    "           fraction_together (int), fraction of playlist that contain both songs\n",
    "           playlist_list (list), list of playlists that contain both songs\n",
    "    '''\n",
    "    playlist_list = []\n",
    "    num_playlists_searched = 0 \n",
    "    num_playlists_occuring_together = 0\n",
    "    for file in filelist:\n",
    "        df = pd.read_csv('RAW_DATA/songs/'+ file, encoding='utf-8')  # read file to df\n",
    "        g = df.groupby('pid')                     # split into separate playlists\n",
    "        for name, group in g:                     # for each playlist\n",
    "            num_playlists_searched += 1\n",
    "            a = group['track_name'].str.lower()\n",
    "            if (a.str.contains(song1.lower()).any()) & (a.str.contains(song2.lower()).any()):\n",
    "                num_playlists_occuring_together +=1\n",
    "                playlist_list.append(name)\n",
    "    fraction_together = num_playlists_occuring_together/num_playlists_searched\n",
    "    return fraction_together, num_playlists_occuring_together, num_playlists_searched, playlist_list "
   ]
  },
  {
   "cell_type": "code",
   "execution_count": 72,
   "metadata": {},
   "outputs": [],
   "source": [
    "def frequency_songs_together_by_id(song1, song2, filelist):\n",
    "    '''Function that searchs playlists in songs files and returns the fraction of times the\n",
    "       two input songs appear together on the same playlist and the numbers of the playlists\n",
    "\n",
    "        Input: \n",
    "           song1 (string) spotify id number one of the songs to search for\n",
    "           song2 (string) spotify id number of the other song to search for\n",
    "           filelist (list) list of file names to read playlists from\n",
    "\n",
    "        Output:\n",
    "           num_playlists_searched (int), number of playlists searched\n",
    "           num_playlists_occuring_together (int), number of playlists with both song1 and song2\n",
    "           fraction_together (int), fraction of playlist that contain both songs\n",
    "           playlist_list (list), list of playlists that contain both songs\n",
    "    '''\n",
    "    playlist_list = []\n",
    "    num_playlists_searched = 0 \n",
    "    num_playlists_occuring_together = 0\n",
    "    for file in filelist:\n",
    "        df = pd.read_csv('RAW_DATA/songs/'+ file, encoding='utf-8')  # read file to df\n",
    "        g = df.groupby('pid')                     # split into separate playlists\n",
    "        for name, group in g:                     # for each playlist\n",
    "            num_playlists_searched += 1\n",
    "            a = group['track_uri'].str.lower()\n",
    "            if (a.str.contains(song1.lower()).any()) & (a.str.contains(song2.lower()).any()):\n",
    "                num_playlists_occuring_together +=1\n",
    "                playlist_list.append(name)\n",
    "    fraction_together = num_playlists_occuring_together/num_playlists_searched\n",
    "    return fraction_together, num_playlists_occuring_together, num_playlists_searched, playlist_list "
   ]
  }
 ],
 "metadata": {
  "kernelspec": {
   "display_name": "Python 3",
   "language": "python",
   "name": "python3"
  },
  "language_info": {
   "codemirror_mode": {
    "name": "ipython",
    "version": 3
   },
   "file_extension": ".py",
   "mimetype": "text/x-python",
   "name": "python",
   "nbconvert_exporter": "python",
   "pygments_lexer": "ipython3",
   "version": "3.7.4"
  }
 },
 "nbformat": 4,
 "nbformat_minor": 2
}
