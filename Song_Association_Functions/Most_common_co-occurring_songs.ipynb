{
 "cells": [
  {
   "cell_type": "markdown",
   "metadata": {},
   "source": [
    "**HERE IS CODE TO SEARCH SPOTIFY PLAYLISTS FOR A GIVEN SONG AND TO REPORT WHAT SONGS ARE MOST OFTEN ASSOCIATED WITH THAT SONG**"
   ]
  },
  {
   "cell_type": "code",
   "execution_count": 20,
   "metadata": {
    "ExecuteTime": {
     "end_time": "2019-11-19T15:22:09.135386Z",
     "start_time": "2019-11-19T15:22:09.132233Z"
    }
   },
   "outputs": [],
   "source": [
    "import numpy as np\n",
    "import pandas as pd"
   ]
  },
  {
   "cell_type": "code",
   "execution_count": 12,
   "metadata": {
    "ExecuteTime": {
     "end_time": "2019-11-19T15:18:27.883972Z",
     "start_time": "2019-11-19T15:18:27.879651Z"
    }
   },
   "outputs": [],
   "source": [
    "# make a list of the playlist files songs0.txt, songs1.txt, ...\n",
    "filelist = []\n",
    "for i in range(10):  # search 100,000 playlists\n",
    "    file = 'songs'+str(i)+'.csv'\n",
    "    filelist.append(file)"
   ]
  },
  {
   "cell_type": "code",
   "execution_count": 13,
   "metadata": {
    "ExecuteTime": {
     "end_time": "2019-11-19T15:18:30.803753Z",
     "start_time": "2019-11-19T15:18:30.796884Z"
    }
   },
   "outputs": [],
   "source": [
    "# Function that searchs playlists in songs files and returns top songs most associated\n",
    "# with (appears most often with) the input song.\n",
    "#\n",
    "# Input: \n",
    "#   song (string) name of song to search for\n",
    "#   filelist (list) list of file names to read playlists from\n",
    "#   num (int) the number of the top most associated songs to report\n",
    "#\n",
    "# Output:\n",
    "#   hist (pandas series), index = song titles ,value = number of playlist where\n",
    "#                          this song and the target song appear together\n",
    "#   num_playlists_searched (int), number of playlists searched\n",
    "#   num_playlists_with_target_song (int), number of playlists with target song \n",
    "def songs_common_to_song(song, filelist, num):\n",
    "    dc =pd.DataFrame() # make output df\n",
    "    num_playlists_searched = 0 \n",
    "    num_playlists_with_target_song = 0\n",
    "    for file in filelist:\n",
    "        df = pd.read_csv('raw_data/Songs/'+ file, encoding='utf-8')  # read file to df\n",
    "        g = df.groupby('pid')                     # split into separate playlists\n",
    "        for name, group in g:                     # for each playlist\n",
    "            num_playlists_searched += 1\n",
    "            if group['track_name'].str.contains(song).any(): # if it contains song, add playlist to dc\n",
    "                num_playlists_with_target_song +=1\n",
    "                dc = pd.concat([dc, group], axis = 0)\n",
    "    hist = dc.track_name.value_counts()\n",
    "    hist = hist.drop(hist.index[hist.index.str.contains(song)])\n",
    "    return hist[:num], num_playlists_searched, num_playlists_with_target_song"
   ]
  },
  {
   "cell_type": "code",
   "execution_count": 16,
   "metadata": {
    "ExecuteTime": {
     "end_time": "2019-11-19T15:19:26.024909Z",
     "start_time": "2019-11-19T15:19:17.940386Z"
    }
   },
   "outputs": [],
   "source": [
    "# test example\n",
    "song = 'Crazy In Love'\n",
    "num = 20\n",
    "top, searched, contained = songs_common_to_song(song, filelist, num)"
   ]
  },
  {
   "cell_type": "code",
   "execution_count": 17,
   "metadata": {
    "ExecuteTime": {
     "end_time": "2019-11-19T15:19:33.959991Z",
     "start_time": "2019-11-19T15:19:33.954964Z"
    }
   },
   "outputs": [
    {
     "data": {
      "text/plain": [
       "Hips Don't Lie                                   59\n",
       "Yeah!                                            57\n",
       "Gold Digger                                      53\n",
       "Hey Ya! - Radio Mix / Club Mix                   51\n",
       "Promiscuous                                      50\n",
       "Hollaback Girl                                   49\n",
       "Ignition - Remix                                 48\n",
       "Toxic                                            47\n",
       "Party In The U.S.A.                              47\n",
       "Single Ladies (Put a Ring on It)                 43\n",
       "SexyBack                                         42\n",
       "Say My Name                                      41\n",
       "Fergalicious                                     40\n",
       "Low (feat T-Pain) - Feat T-Pain Album Version    40\n",
       "Umbrella                                         40\n",
       "Love On Top                                      38\n",
       "Drunk in Love                                    37\n",
       "TiK ToK                                          37\n",
       "Halo                                             37\n",
       "Closer                                           36\n",
       "Name: track_name, dtype: int64"
      ]
     },
     "execution_count": 17,
     "metadata": {},
     "output_type": "execute_result"
    }
   ],
   "source": [
    "top"
   ]
  }
 ],
 "metadata": {
  "kernelspec": {
   "display_name": "Python 3",
   "language": "python",
   "name": "python3"
  },
  "language_info": {
   "codemirror_mode": {
    "name": "ipython",
    "version": 3
   },
   "file_extension": ".py",
   "mimetype": "text/x-python",
   "name": "python",
   "nbconvert_exporter": "python",
   "pygments_lexer": "ipython3",
   "version": "3.7.4"
  }
 },
 "nbformat": 4,
 "nbformat_minor": 2
}
