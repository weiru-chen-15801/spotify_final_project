{
 "cells": [
  {
   "cell_type": "markdown",
   "metadata": {},
   "source": [
    "# Milestone 3"
   ]
  },
  {
   "cell_type": "markdown",
   "metadata": {},
   "source": [
    "#### Authors: Weiru Chen, Togo Kida, Daniel Cox, Shuyuan Xiao"
   ]
  },
  {
   "cell_type": "code",
   "execution_count": 120,
   "metadata": {},
   "outputs": [],
   "source": [
    "import tensorflow as tf\n",
    "import pandas as pd\n",
    "import numpy as np\n",
    "import pylast\n",
    "import json\n",
    "import os\n",
    "import matplotlib.pyplot as pyp"
   ]
  },
  {
   "cell_type": "code",
   "execution_count": 121,
   "metadata": {},
   "outputs": [],
   "source": [
    "raw_features = []\n",
    "for i in range(100):\n",
    "    file = pd.read_csv(\"../playlists/df_playlist_features_\"+str(i)+\".csv\")\n",
    "    raw_features.append(file)\n"
   ]
  },
  {
   "cell_type": "markdown",
   "metadata": {},
   "source": [
    "## Get tags for songs in the playlists\n",
    "Get tags from Last.fm and use the tags as response variable"
   ]
  },
  {
   "cell_type": "code",
   "execution_count": 96,
   "metadata": {},
   "outputs": [],
   "source": [
    "#unique tags threshold\n",
    "threshold = 3000\n",
    "#threshold = 1000\n",
    "unique_tags = []\n",
    "with open(\"../lastfm_unique_tags.txt\", 'r') as f:\n",
    "    for line in f:\n",
    "        tag_freq = line.split('\\t')\n",
    "        if int(tag_freq[1]) > threshold:\n",
    "            unique_tags.append(tag_freq[0])\n",
    "        else:\n",
    "            break"
   ]
  },
  {
   "cell_type": "code",
   "execution_count": 97,
   "metadata": {},
   "outputs": [],
   "source": [
    "#create all zero value dictionary\n",
    "\n",
    "def get_zero_dict():\n",
    "    zeros_dict = {}\n",
    "    for tag in unique_tags:\n",
    "        zeros_dict.update({tag: 0.0})\n",
    "    return zeros_dict"
   ]
  },
  {
   "cell_type": "markdown",
   "metadata": {},
   "source": [
    "## Data Wrangling for the model to predict tags of a playlist\n",
    "To prepare the data for the random forest model, take the mean value of features of all the songs in the playlist"
   ]
  },
  {
   "cell_type": "code",
   "execution_count": 98,
   "metadata": {},
   "outputs": [
    {
     "data": {
      "text/html": [
       "<div>\n",
       "<style scoped>\n",
       "    .dataframe tbody tr th:only-of-type {\n",
       "        vertical-align: middle;\n",
       "    }\n",
       "\n",
       "    .dataframe tbody tr th {\n",
       "        vertical-align: top;\n",
       "    }\n",
       "\n",
       "    .dataframe thead th {\n",
       "        text-align: right;\n",
       "    }\n",
       "</style>\n",
       "<table border=\"1\" class=\"dataframe\">\n",
       "  <thead>\n",
       "    <tr style=\"text-align: right;\">\n",
       "      <th></th>\n",
       "      <th>acousticness</th>\n",
       "      <th>danceability</th>\n",
       "      <th>speechiness</th>\n",
       "      <th>instrumentalness</th>\n",
       "      <th>liveness</th>\n",
       "      <th>energy</th>\n",
       "      <th>valence</th>\n",
       "      <th>duration_ms</th>\n",
       "      <th>key</th>\n",
       "      <th>mode</th>\n",
       "      <th>...</th>\n",
       "      <th>World Music</th>\n",
       "      <th>genius</th>\n",
       "      <th>noise</th>\n",
       "      <th>saxophone</th>\n",
       "      <th>Favorite Artists</th>\n",
       "      <th>indietronica</th>\n",
       "      <th>feelgood</th>\n",
       "      <th>new</th>\n",
       "      <th>folk-rock</th>\n",
       "      <th>pretty</th>\n",
       "    </tr>\n",
       "  </thead>\n",
       "  <tbody>\n",
       "    <tr>\n",
       "      <th>0</th>\n",
       "      <td>0.085044</td>\n",
       "      <td>0.663922</td>\n",
       "      <td>0.107875</td>\n",
       "      <td>0.000689</td>\n",
       "      <td>0.192404</td>\n",
       "      <td>0.779078</td>\n",
       "      <td>0.645608</td>\n",
       "      <td>222076.627451</td>\n",
       "      <td>5.117647</td>\n",
       "      <td>0.705882</td>\n",
       "      <td>...</td>\n",
       "      <td>0.001154</td>\n",
       "      <td>0.000385</td>\n",
       "      <td>0.0000</td>\n",
       "      <td>0.0</td>\n",
       "      <td>0.000962</td>\n",
       "      <td>0.0000</td>\n",
       "      <td>0.001731</td>\n",
       "      <td>0.001346</td>\n",
       "      <td>0.0</td>\n",
       "      <td>0.000577</td>\n",
       "    </tr>\n",
       "    <tr>\n",
       "      <th>1</th>\n",
       "      <td>0.166732</td>\n",
       "      <td>0.493655</td>\n",
       "      <td>0.089239</td>\n",
       "      <td>0.228118</td>\n",
       "      <td>0.174761</td>\n",
       "      <td>0.686868</td>\n",
       "      <td>0.472711</td>\n",
       "      <td>299176.157895</td>\n",
       "      <td>4.578947</td>\n",
       "      <td>0.552632</td>\n",
       "      <td>...</td>\n",
       "      <td>0.000000</td>\n",
       "      <td>0.000000</td>\n",
       "      <td>0.0000</td>\n",
       "      <td>0.0</td>\n",
       "      <td>0.000000</td>\n",
       "      <td>0.0000</td>\n",
       "      <td>0.000000</td>\n",
       "      <td>0.000256</td>\n",
       "      <td>0.0</td>\n",
       "      <td>0.000000</td>\n",
       "    </tr>\n",
       "    <tr>\n",
       "      <th>2</th>\n",
       "      <td>0.273359</td>\n",
       "      <td>0.671952</td>\n",
       "      <td>0.096359</td>\n",
       "      <td>0.000648</td>\n",
       "      <td>0.170416</td>\n",
       "      <td>0.690095</td>\n",
       "      <td>0.565460</td>\n",
       "      <td>219076.174603</td>\n",
       "      <td>4.984127</td>\n",
       "      <td>0.507937</td>\n",
       "      <td>...</td>\n",
       "      <td>0.000000</td>\n",
       "      <td>0.000000</td>\n",
       "      <td>0.0000</td>\n",
       "      <td>0.0</td>\n",
       "      <td>0.000000</td>\n",
       "      <td>0.0000</td>\n",
       "      <td>0.000000</td>\n",
       "      <td>0.000000</td>\n",
       "      <td>0.0</td>\n",
       "      <td>0.007812</td>\n",
       "    </tr>\n",
       "    <tr>\n",
       "      <th>3</th>\n",
       "      <td>0.266913</td>\n",
       "      <td>0.509253</td>\n",
       "      <td>0.066359</td>\n",
       "      <td>0.210820</td>\n",
       "      <td>0.197497</td>\n",
       "      <td>0.624924</td>\n",
       "      <td>0.460534</td>\n",
       "      <td>229373.898990</td>\n",
       "      <td>5.090909</td>\n",
       "      <td>0.707071</td>\n",
       "      <td>...</td>\n",
       "      <td>0.000000</td>\n",
       "      <td>0.000200</td>\n",
       "      <td>0.0075</td>\n",
       "      <td>0.0</td>\n",
       "      <td>0.002800</td>\n",
       "      <td>0.0165</td>\n",
       "      <td>0.001400</td>\n",
       "      <td>0.000200</td>\n",
       "      <td>0.0</td>\n",
       "      <td>0.001700</td>\n",
       "    </tr>\n",
       "    <tr>\n",
       "      <th>4</th>\n",
       "      <td>0.181532</td>\n",
       "      <td>0.582188</td>\n",
       "      <td>0.041513</td>\n",
       "      <td>0.086992</td>\n",
       "      <td>0.169556</td>\n",
       "      <td>0.636631</td>\n",
       "      <td>0.489375</td>\n",
       "      <td>256603.562500</td>\n",
       "      <td>3.187500</td>\n",
       "      <td>0.812500</td>\n",
       "      <td>...</td>\n",
       "      <td>0.000000</td>\n",
       "      <td>0.000000</td>\n",
       "      <td>0.0000</td>\n",
       "      <td>0.0</td>\n",
       "      <td>0.000000</td>\n",
       "      <td>0.0000</td>\n",
       "      <td>0.000000</td>\n",
       "      <td>0.000000</td>\n",
       "      <td>0.0</td>\n",
       "      <td>0.000000</td>\n",
       "    </tr>\n",
       "  </tbody>\n",
       "</table>\n",
       "<p>5 rows × 287 columns</p>\n",
       "</div>"
      ],
      "text/plain": [
       "   acousticness  danceability  speechiness  instrumentalness  liveness  \\\n",
       "0      0.085044      0.663922     0.107875          0.000689  0.192404   \n",
       "1      0.166732      0.493655     0.089239          0.228118  0.174761   \n",
       "2      0.273359      0.671952     0.096359          0.000648  0.170416   \n",
       "3      0.266913      0.509253     0.066359          0.210820  0.197497   \n",
       "4      0.181532      0.582188     0.041513          0.086992  0.169556   \n",
       "\n",
       "     energy   valence    duration_ms       key      mode  ...  World Music  \\\n",
       "0  0.779078  0.645608  222076.627451  5.117647  0.705882  ...     0.001154   \n",
       "1  0.686868  0.472711  299176.157895  4.578947  0.552632  ...     0.000000   \n",
       "2  0.690095  0.565460  219076.174603  4.984127  0.507937  ...     0.000000   \n",
       "3  0.624924  0.460534  229373.898990  5.090909  0.707071  ...     0.000000   \n",
       "4  0.636631  0.489375  256603.562500  3.187500  0.812500  ...     0.000000   \n",
       "\n",
       "     genius   noise  saxophone  Favorite Artists  indietronica  feelgood  \\\n",
       "0  0.000385  0.0000        0.0          0.000962        0.0000  0.001731   \n",
       "1  0.000000  0.0000        0.0          0.000000        0.0000  0.000000   \n",
       "2  0.000000  0.0000        0.0          0.000000        0.0000  0.000000   \n",
       "3  0.000200  0.0075        0.0          0.002800        0.0165  0.001400   \n",
       "4  0.000000  0.0000        0.0          0.000000        0.0000  0.000000   \n",
       "\n",
       "        new  folk-rock    pretty  \n",
       "0  0.001346        0.0  0.000577  \n",
       "1  0.000256        0.0  0.000000  \n",
       "2  0.000000        0.0  0.007812  \n",
       "3  0.000200        0.0  0.001700  \n",
       "4  0.000000        0.0  0.000000  \n",
       "\n",
       "[5 rows x 287 columns]"
      ]
     },
     "execution_count": 98,
     "metadata": {},
     "output_type": "execute_result"
    }
   ],
   "source": [
    "feature_names = list(raw_features[0].columns)[4:]\n",
    "#print(feature_names)\n",
    "\n",
    "labels = []\n",
    "with open('../labels_100_playlists.json') as json_file:\n",
    "    data = json.load(json_file)\n",
    "    label_columns = list(data[0].keys())\n",
    "    for item in data:\n",
    "        #label = list(item.values())\n",
    "        #label = np.array(label)*100\n",
    "        #labels.append(list(label))\n",
    "        labels.append(list(item.values()))\n",
    "    \n",
    "features = []\n",
    "for raw_playlist in raw_features:\n",
    "    raw_playlist = raw_playlist.drop(columns=['track_name', 'artist', 'id','Unnamed: 0'])\n",
    "    new_feature_array_playlist = list(raw_playlist.mean())\n",
    "    features.append(new_feature_array_playlist)\n",
    "\n",
    "overall_data = []\n",
    "for i in range(len(features)):\n",
    "    overall_data.append(features[i]+labels[i])\n",
    "\n",
    "overall_df = pd.DataFrame(overall_data, columns = feature_names+label_columns)\n",
    "overall_df.head()"
   ]
  },
  {
   "cell_type": "markdown",
   "metadata": {},
   "source": [
    "With the tags from the Last.fm, for each song, we find top n tags and set their weights to be 1 (others 0)."
   ]
  },
  {
   "cell_type": "code",
   "execution_count": 99,
   "metadata": {},
   "outputs": [
    {
     "data": {
      "text/html": [
       "<div>\n",
       "<style scoped>\n",
       "    .dataframe tbody tr th:only-of-type {\n",
       "        vertical-align: middle;\n",
       "    }\n",
       "\n",
       "    .dataframe tbody tr th {\n",
       "        vertical-align: top;\n",
       "    }\n",
       "\n",
       "    .dataframe thead th {\n",
       "        text-align: right;\n",
       "    }\n",
       "</style>\n",
       "<table border=\"1\" class=\"dataframe\">\n",
       "  <thead>\n",
       "    <tr style=\"text-align: right;\">\n",
       "      <th></th>\n",
       "      <th>acousticness</th>\n",
       "      <th>danceability</th>\n",
       "      <th>speechiness</th>\n",
       "      <th>instrumentalness</th>\n",
       "      <th>liveness</th>\n",
       "      <th>energy</th>\n",
       "      <th>valence</th>\n",
       "      <th>duration_ms</th>\n",
       "      <th>key</th>\n",
       "      <th>mode</th>\n",
       "      <th>...</th>\n",
       "      <th>World Music</th>\n",
       "      <th>genius</th>\n",
       "      <th>noise</th>\n",
       "      <th>saxophone</th>\n",
       "      <th>Favorite Artists</th>\n",
       "      <th>indietronica</th>\n",
       "      <th>feelgood</th>\n",
       "      <th>new</th>\n",
       "      <th>folk-rock</th>\n",
       "      <th>pretty</th>\n",
       "    </tr>\n",
       "  </thead>\n",
       "  <tbody>\n",
       "    <tr>\n",
       "      <th>0</th>\n",
       "      <td>0.085044</td>\n",
       "      <td>0.663922</td>\n",
       "      <td>0.107875</td>\n",
       "      <td>0.000689</td>\n",
       "      <td>0.192404</td>\n",
       "      <td>0.779078</td>\n",
       "      <td>0.645608</td>\n",
       "      <td>222076.627451</td>\n",
       "      <td>5.117647</td>\n",
       "      <td>0.705882</td>\n",
       "      <td>...</td>\n",
       "      <td>0</td>\n",
       "      <td>0</td>\n",
       "      <td>0</td>\n",
       "      <td>0</td>\n",
       "      <td>0</td>\n",
       "      <td>0</td>\n",
       "      <td>0</td>\n",
       "      <td>0</td>\n",
       "      <td>0</td>\n",
       "      <td>0</td>\n",
       "    </tr>\n",
       "    <tr>\n",
       "      <th>1</th>\n",
       "      <td>0.166732</td>\n",
       "      <td>0.493655</td>\n",
       "      <td>0.089239</td>\n",
       "      <td>0.228118</td>\n",
       "      <td>0.174761</td>\n",
       "      <td>0.686868</td>\n",
       "      <td>0.472711</td>\n",
       "      <td>299176.157895</td>\n",
       "      <td>4.578947</td>\n",
       "      <td>0.552632</td>\n",
       "      <td>...</td>\n",
       "      <td>0</td>\n",
       "      <td>0</td>\n",
       "      <td>0</td>\n",
       "      <td>0</td>\n",
       "      <td>0</td>\n",
       "      <td>0</td>\n",
       "      <td>0</td>\n",
       "      <td>0</td>\n",
       "      <td>0</td>\n",
       "      <td>0</td>\n",
       "    </tr>\n",
       "    <tr>\n",
       "      <th>2</th>\n",
       "      <td>0.273359</td>\n",
       "      <td>0.671952</td>\n",
       "      <td>0.096359</td>\n",
       "      <td>0.000648</td>\n",
       "      <td>0.170416</td>\n",
       "      <td>0.690095</td>\n",
       "      <td>0.565460</td>\n",
       "      <td>219076.174603</td>\n",
       "      <td>4.984127</td>\n",
       "      <td>0.507937</td>\n",
       "      <td>...</td>\n",
       "      <td>0</td>\n",
       "      <td>0</td>\n",
       "      <td>0</td>\n",
       "      <td>0</td>\n",
       "      <td>0</td>\n",
       "      <td>0</td>\n",
       "      <td>0</td>\n",
       "      <td>0</td>\n",
       "      <td>0</td>\n",
       "      <td>1</td>\n",
       "    </tr>\n",
       "    <tr>\n",
       "      <th>3</th>\n",
       "      <td>0.266913</td>\n",
       "      <td>0.509253</td>\n",
       "      <td>0.066359</td>\n",
       "      <td>0.210820</td>\n",
       "      <td>0.197497</td>\n",
       "      <td>0.624924</td>\n",
       "      <td>0.460534</td>\n",
       "      <td>229373.898990</td>\n",
       "      <td>5.090909</td>\n",
       "      <td>0.707071</td>\n",
       "      <td>...</td>\n",
       "      <td>0</td>\n",
       "      <td>0</td>\n",
       "      <td>0</td>\n",
       "      <td>0</td>\n",
       "      <td>0</td>\n",
       "      <td>0</td>\n",
       "      <td>0</td>\n",
       "      <td>0</td>\n",
       "      <td>0</td>\n",
       "      <td>0</td>\n",
       "    </tr>\n",
       "    <tr>\n",
       "      <th>4</th>\n",
       "      <td>0.181532</td>\n",
       "      <td>0.582188</td>\n",
       "      <td>0.041513</td>\n",
       "      <td>0.086992</td>\n",
       "      <td>0.169556</td>\n",
       "      <td>0.636631</td>\n",
       "      <td>0.489375</td>\n",
       "      <td>256603.562500</td>\n",
       "      <td>3.187500</td>\n",
       "      <td>0.812500</td>\n",
       "      <td>...</td>\n",
       "      <td>0</td>\n",
       "      <td>0</td>\n",
       "      <td>0</td>\n",
       "      <td>0</td>\n",
       "      <td>0</td>\n",
       "      <td>0</td>\n",
       "      <td>0</td>\n",
       "      <td>0</td>\n",
       "      <td>0</td>\n",
       "      <td>0</td>\n",
       "    </tr>\n",
       "  </tbody>\n",
       "</table>\n",
       "<p>5 rows × 287 columns</p>\n",
       "</div>"
      ],
      "text/plain": [
       "   acousticness  danceability  speechiness  instrumentalness  liveness  \\\n",
       "0      0.085044      0.663922     0.107875          0.000689  0.192404   \n",
       "1      0.166732      0.493655     0.089239          0.228118  0.174761   \n",
       "2      0.273359      0.671952     0.096359          0.000648  0.170416   \n",
       "3      0.266913      0.509253     0.066359          0.210820  0.197497   \n",
       "4      0.181532      0.582188     0.041513          0.086992  0.169556   \n",
       "\n",
       "     energy   valence    duration_ms       key      mode  ...  World Music  \\\n",
       "0  0.779078  0.645608  222076.627451  5.117647  0.705882  ...            0   \n",
       "1  0.686868  0.472711  299176.157895  4.578947  0.552632  ...            0   \n",
       "2  0.690095  0.565460  219076.174603  4.984127  0.507937  ...            0   \n",
       "3  0.624924  0.460534  229373.898990  5.090909  0.707071  ...            0   \n",
       "4  0.636631  0.489375  256603.562500  3.187500  0.812500  ...            0   \n",
       "\n",
       "   genius  noise  saxophone  Favorite Artists  indietronica  feelgood  new  \\\n",
       "0       0      0          0                 0             0         0    0   \n",
       "1       0      0          0                 0             0         0    0   \n",
       "2       0      0          0                 0             0         0    0   \n",
       "3       0      0          0                 0             0         0    0   \n",
       "4       0      0          0                 0             0         0    0   \n",
       "\n",
       "   folk-rock  pretty  \n",
       "0          0       0  \n",
       "1          0       0  \n",
       "2          0       1  \n",
       "3          0       0  \n",
       "4          0       0  \n",
       "\n",
       "[5 rows x 287 columns]"
      ]
     },
     "execution_count": 99,
     "metadata": {},
     "output_type": "execute_result"
    }
   ],
   "source": [
    "feature_names = list(raw_features[0].columns)[4:]\n",
    "#print(feature_names)\n",
    "\n",
    "top_n_tags = 20\n",
    "\n",
    "labels = []\n",
    "with open('../labels_100_playlists.json') as json_file:\n",
    "    data = json.load(json_file)\n",
    "    label_columns = list(data[0].keys())\n",
    "    for item in data:\n",
    "        label = list(item.values())\n",
    "        sorted_label_top_n = sorted(label, reverse=True)[0:top_n_tags]\n",
    "        new_label = [0]*len(label)\n",
    "        for num in sorted_label_top_n:\n",
    "            new_label[label.index(num)] = 1\n",
    "        \n",
    "        labels.append(new_label)\n",
    "        #labels.append(list(item.values()))\n",
    "    \n",
    "features = []\n",
    "for raw_playlist in raw_features:\n",
    "    raw_playlist = raw_playlist.drop(columns=['track_name', 'artist', 'id','Unnamed: 0'])\n",
    "    new_feature_array_playlist = list(raw_playlist.mean())\n",
    "    features.append(new_feature_array_playlist)\n",
    "\n",
    "overall_data = []\n",
    "for i in range(len(features)):\n",
    "    overall_data.append(features[i]+labels[i])\n",
    "\n",
    "overall_df = pd.DataFrame(overall_data, columns = feature_names+label_columns)\n",
    "overall_df.head()"
   ]
  },
  {
   "cell_type": "markdown",
   "metadata": {},
   "source": [
    "## EDA and Visualizations"
   ]
  },
  {
   "cell_type": "code",
   "execution_count": null,
   "metadata": {},
   "outputs": [],
   "source": []
  },
  {
   "cell_type": "code",
   "execution_count": null,
   "metadata": {},
   "outputs": [],
   "source": []
  },
  {
   "cell_type": "code",
   "execution_count": null,
   "metadata": {},
   "outputs": [],
   "source": []
  },
  {
   "cell_type": "code",
   "execution_count": null,
   "metadata": {},
   "outputs": [],
   "source": []
  },
  {
   "cell_type": "code",
   "execution_count": null,
   "metadata": {},
   "outputs": [],
   "source": []
  },
  {
   "cell_type": "markdown",
   "metadata": {},
   "source": [
    "## Motivation of Models"
   ]
  },
  {
   "cell_type": "markdown",
   "metadata": {},
   "source": [
    "Since there are billions of users and playlists, and the playlists are created and changing all the time, it is extremely time consuming and quite unrealizable to use last.fm api to get all the latest tags of all the songs in order to recommend similar songs with respect to the playlists. Besides, there are many unpopular and newly released songs that might never be recommended to any user, as they might have no reliable tags. In this case, we can make a pool for those newly released songs (via released date) and unpopular songs (via listening counts) and then use our model (such as artificial neural networks model) to train them. With the pool of predicted tags for these songs, we can compute the distances between these songs and the playlists. And we can recommend songs in this pool with the closest distances to the playlists.\n"
   ]
  },
  {
   "cell_type": "markdown",
   "metadata": {},
   "source": [
    "## Tree Models\n",
    "Decision Trees and Random Forests (Difficult to tune, overfitting, not ideal for coldstart and multi-dimensional class labels)"
   ]
  },
  {
   "cell_type": "code",
   "execution_count": 100,
   "metadata": {},
   "outputs": [
    {
     "data": {
      "text/html": [
       "<div>\n",
       "<style scoped>\n",
       "    .dataframe tbody tr th:only-of-type {\n",
       "        vertical-align: middle;\n",
       "    }\n",
       "\n",
       "    .dataframe tbody tr th {\n",
       "        vertical-align: top;\n",
       "    }\n",
       "\n",
       "    .dataframe thead th {\n",
       "        text-align: right;\n",
       "    }\n",
       "</style>\n",
       "<table border=\"1\" class=\"dataframe\">\n",
       "  <thead>\n",
       "    <tr style=\"text-align: right;\">\n",
       "      <th></th>\n",
       "      <th>acousticness</th>\n",
       "      <th>danceability</th>\n",
       "      <th>speechiness</th>\n",
       "      <th>instrumentalness</th>\n",
       "      <th>liveness</th>\n",
       "      <th>energy</th>\n",
       "      <th>valence</th>\n",
       "      <th>duration_ms</th>\n",
       "      <th>key</th>\n",
       "      <th>mode</th>\n",
       "      <th>...</th>\n",
       "      <th>World Music</th>\n",
       "      <th>genius</th>\n",
       "      <th>noise</th>\n",
       "      <th>saxophone</th>\n",
       "      <th>Favorite Artists</th>\n",
       "      <th>indietronica</th>\n",
       "      <th>feelgood</th>\n",
       "      <th>new</th>\n",
       "      <th>folk-rock</th>\n",
       "      <th>pretty</th>\n",
       "    </tr>\n",
       "  </thead>\n",
       "  <tbody>\n",
       "    <tr>\n",
       "      <th>0</th>\n",
       "      <td>0.085044</td>\n",
       "      <td>0.663922</td>\n",
       "      <td>0.107875</td>\n",
       "      <td>0.000689</td>\n",
       "      <td>0.192404</td>\n",
       "      <td>0.779078</td>\n",
       "      <td>0.645608</td>\n",
       "      <td>222076.627451</td>\n",
       "      <td>5.117647</td>\n",
       "      <td>0.705882</td>\n",
       "      <td>...</td>\n",
       "      <td>0</td>\n",
       "      <td>0</td>\n",
       "      <td>0</td>\n",
       "      <td>0</td>\n",
       "      <td>0</td>\n",
       "      <td>0</td>\n",
       "      <td>0</td>\n",
       "      <td>0</td>\n",
       "      <td>0</td>\n",
       "      <td>0</td>\n",
       "    </tr>\n",
       "    <tr>\n",
       "      <th>1</th>\n",
       "      <td>0.166732</td>\n",
       "      <td>0.493655</td>\n",
       "      <td>0.089239</td>\n",
       "      <td>0.228118</td>\n",
       "      <td>0.174761</td>\n",
       "      <td>0.686868</td>\n",
       "      <td>0.472711</td>\n",
       "      <td>299176.157895</td>\n",
       "      <td>4.578947</td>\n",
       "      <td>0.552632</td>\n",
       "      <td>...</td>\n",
       "      <td>0</td>\n",
       "      <td>0</td>\n",
       "      <td>0</td>\n",
       "      <td>0</td>\n",
       "      <td>0</td>\n",
       "      <td>0</td>\n",
       "      <td>0</td>\n",
       "      <td>0</td>\n",
       "      <td>0</td>\n",
       "      <td>0</td>\n",
       "    </tr>\n",
       "    <tr>\n",
       "      <th>2</th>\n",
       "      <td>0.273359</td>\n",
       "      <td>0.671952</td>\n",
       "      <td>0.096359</td>\n",
       "      <td>0.000648</td>\n",
       "      <td>0.170416</td>\n",
       "      <td>0.690095</td>\n",
       "      <td>0.565460</td>\n",
       "      <td>219076.174603</td>\n",
       "      <td>4.984127</td>\n",
       "      <td>0.507937</td>\n",
       "      <td>...</td>\n",
       "      <td>0</td>\n",
       "      <td>0</td>\n",
       "      <td>0</td>\n",
       "      <td>0</td>\n",
       "      <td>0</td>\n",
       "      <td>0</td>\n",
       "      <td>0</td>\n",
       "      <td>0</td>\n",
       "      <td>0</td>\n",
       "      <td>0</td>\n",
       "    </tr>\n",
       "    <tr>\n",
       "      <th>3</th>\n",
       "      <td>0.266913</td>\n",
       "      <td>0.509253</td>\n",
       "      <td>0.066359</td>\n",
       "      <td>0.210820</td>\n",
       "      <td>0.197497</td>\n",
       "      <td>0.624924</td>\n",
       "      <td>0.460534</td>\n",
       "      <td>229373.898990</td>\n",
       "      <td>5.090909</td>\n",
       "      <td>0.707071</td>\n",
       "      <td>...</td>\n",
       "      <td>0</td>\n",
       "      <td>0</td>\n",
       "      <td>0</td>\n",
       "      <td>0</td>\n",
       "      <td>0</td>\n",
       "      <td>0</td>\n",
       "      <td>0</td>\n",
       "      <td>0</td>\n",
       "      <td>0</td>\n",
       "      <td>0</td>\n",
       "    </tr>\n",
       "    <tr>\n",
       "      <th>4</th>\n",
       "      <td>0.181532</td>\n",
       "      <td>0.582188</td>\n",
       "      <td>0.041513</td>\n",
       "      <td>0.086992</td>\n",
       "      <td>0.169556</td>\n",
       "      <td>0.636631</td>\n",
       "      <td>0.489375</td>\n",
       "      <td>256603.562500</td>\n",
       "      <td>3.187500</td>\n",
       "      <td>0.812500</td>\n",
       "      <td>...</td>\n",
       "      <td>0</td>\n",
       "      <td>0</td>\n",
       "      <td>0</td>\n",
       "      <td>0</td>\n",
       "      <td>0</td>\n",
       "      <td>0</td>\n",
       "      <td>0</td>\n",
       "      <td>0</td>\n",
       "      <td>0</td>\n",
       "      <td>0</td>\n",
       "    </tr>\n",
       "  </tbody>\n",
       "</table>\n",
       "<p>5 rows × 287 columns</p>\n",
       "</div>"
      ],
      "text/plain": [
       "   acousticness  danceability  speechiness  instrumentalness  liveness  \\\n",
       "0      0.085044      0.663922     0.107875          0.000689  0.192404   \n",
       "1      0.166732      0.493655     0.089239          0.228118  0.174761   \n",
       "2      0.273359      0.671952     0.096359          0.000648  0.170416   \n",
       "3      0.266913      0.509253     0.066359          0.210820  0.197497   \n",
       "4      0.181532      0.582188     0.041513          0.086992  0.169556   \n",
       "\n",
       "     energy   valence    duration_ms       key      mode  ...  World Music  \\\n",
       "0  0.779078  0.645608  222076.627451  5.117647  0.705882  ...            0   \n",
       "1  0.686868  0.472711  299176.157895  4.578947  0.552632  ...            0   \n",
       "2  0.690095  0.565460  219076.174603  4.984127  0.507937  ...            0   \n",
       "3  0.624924  0.460534  229373.898990  5.090909  0.707071  ...            0   \n",
       "4  0.636631  0.489375  256603.562500  3.187500  0.812500  ...            0   \n",
       "\n",
       "   genius  noise  saxophone  Favorite Artists  indietronica  feelgood  new  \\\n",
       "0       0      0          0                 0             0         0    0   \n",
       "1       0      0          0                 0             0         0    0   \n",
       "2       0      0          0                 0             0         0    0   \n",
       "3       0      0          0                 0             0         0    0   \n",
       "4       0      0          0                 0             0         0    0   \n",
       "\n",
       "   folk-rock  pretty  \n",
       "0          0       0  \n",
       "1          0       0  \n",
       "2          0       0  \n",
       "3          0       0  \n",
       "4          0       0  \n",
       "\n",
       "[5 rows x 287 columns]"
      ]
     },
     "execution_count": 100,
     "metadata": {},
     "output_type": "execute_result"
    }
   ],
   "source": [
    "feature_names = list(raw_features[0].columns)[4:]\n",
    "#print(feature_names)\n",
    "\n",
    "top_n_tags = 1\n",
    "\n",
    "labels = []\n",
    "with open('../labels_100_playlists.json') as json_file:\n",
    "    data = json.load(json_file)\n",
    "    label_columns = list(data[0].keys())\n",
    "    for item in data:\n",
    "        label = list(item.values())\n",
    "        sorted_label_top_n = sorted(label, reverse=True)[0:top_n_tags]\n",
    "        new_label = [0]*len(label)\n",
    "        for num in sorted_label_top_n:\n",
    "            new_label[label.index(num)] = 1\n",
    "        \n",
    "        labels.append(new_label)\n",
    "        #labels.append(list(item.values()))\n",
    "    \n",
    "features = []\n",
    "for raw_playlist in raw_features:\n",
    "    raw_playlist = raw_playlist.drop(columns=['track_name', 'artist', 'id','Unnamed: 0'])\n",
    "    new_feature_array_playlist = list(raw_playlist.mean())\n",
    "    features.append(new_feature_array_playlist)\n",
    "\n",
    "overall_data = []\n",
    "for i in range(len(features)):\n",
    "    overall_data.append(features[i]+labels[i])\n",
    "\n",
    "overall_df = pd.DataFrame(overall_data, columns = feature_names+label_columns)\n",
    "overall_df.head()"
   ]
  },
  {
   "cell_type": "markdown",
   "metadata": {},
   "source": [
    "Train-test split"
   ]
  },
  {
   "cell_type": "code",
   "execution_count": 101,
   "metadata": {},
   "outputs": [],
   "source": [
    "from sklearn.model_selection import train_test_split\n",
    "\n",
    "#standardize (normalize X_df)\n",
    "X_df = overall_df[feature_names]\n",
    "#X_df=(X_df-X_df.mean())/X_df.std()\n",
    "y_df = overall_df[label_columns]\n",
    "\n",
    "X_train, X_test, y_train, y_test = train_test_split(X_df, y_df, test_size=0.2)\n"
   ]
  },
  {
   "cell_type": "code",
   "execution_count": 102,
   "metadata": {},
   "outputs": [
    {
     "name": "stdout",
     "output_type": "stream",
     "text": [
      "Training accuracy: 0.9\n",
      "Test accuracy: 0.25\n"
     ]
    }
   ],
   "source": [
    "from sklearn.tree import DecisionTreeClassifier\n",
    "\n",
    "tree_model = DecisionTreeClassifier(max_depth = 50, min_samples_split = 3, min_samples_leaf = 1,\n",
    "                                   criterion = \"gini\").fit(X_train, y_train)\n",
    "train_tree_acc = tree_model.score(X_train, y_train)\n",
    "test_tree_acc = tree_model.score(X_test, y_test)\n",
    "print(\"Training accuracy:\", train_tree_acc)\n",
    "print(\"Test accuracy:\", test_tree_acc)"
   ]
  },
  {
   "cell_type": "code",
   "execution_count": 103,
   "metadata": {},
   "outputs": [
    {
     "name": "stdout",
     "output_type": "stream",
     "text": [
      "Training accuracy: 0.5375\n",
      "Test accuracy: 0.05\n"
     ]
    }
   ],
   "source": [
    "from sklearn.ensemble import RandomForestClassifier\n",
    "\n",
    "random_forest_model = RandomForestClassifier(n_estimators = 100, max_depth = 100, criterion = \"entropy\",\n",
    "                                            min_samples_split = 3, min_samples_leaf = 2,\n",
    "                                            max_features = \"sqrt\").fit(X_train, y_train)\n",
    "train_tree_acc = random_forest_model.score(X_train, y_train)\n",
    "test_tree_acc = random_forest_model.score(X_test, y_test)\n",
    "print(\"Training accuracy:\", train_tree_acc)\n",
    "print(\"Test accuracy:\", test_tree_acc)"
   ]
  },
  {
   "cell_type": "markdown",
   "metadata": {},
   "source": [
    "## CNN Model \n",
    "(Convoluted Neural Networks)"
   ]
  },
  {
   "cell_type": "code",
   "execution_count": 104,
   "metadata": {},
   "outputs": [
    {
     "name": "stdout",
     "output_type": "stream",
     "text": [
      "66\n"
     ]
    },
    {
     "data": {
      "text/plain": [
       "(66, 30, 13, 1)"
      ]
     },
     "execution_count": 104,
     "metadata": {},
     "output_type": "execute_result"
    }
   ],
   "source": [
    "playlist_features = []\n",
    "valid_data_indices = []\n",
    "for i in range(0, 100):\n",
    "    feature_sing = pd.read_csv(\"../playlists/df_playlist_features_\" + str(i) + \".csv\")\n",
    "    feature_sing = feature_sing.drop(columns=['track_name', 'artist', 'id','Unnamed: 0'])\n",
    "    feature_sing = feature_sing.dropna()\n",
    "    feature_sing = feature_sing.to_numpy()\n",
    "    num_songs = feature_sing.shape[0]\n",
    "    if (num_songs >= 30):\n",
    "        valid_data_indices.append(i)\n",
    "        playlist_features.append(feature_sing[:30, ].reshape((30, 13, 1)))\n",
    "playlist_features = np.array(playlist_features)\n",
    "print(len(valid_data_indices))\n",
    "playlist_features.shape"
   ]
  },
  {
   "cell_type": "code",
   "execution_count": 105,
   "metadata": {},
   "outputs": [],
   "source": [
    "# standardize features\n",
    "playlist_features_mean = np.mean(playlist_features, axis=(0, 1), keepdims = True)\n",
    "playlist_features_std = np.std(playlist_features, axis=(0, 1), keepdims = True)\n",
    "playlist_features = (playlist_features - playlist_features_mean) / playlist_features_std"
   ]
  },
  {
   "cell_type": "code",
   "execution_count": 106,
   "metadata": {},
   "outputs": [],
   "source": [
    "# read in labels\n",
    "playlist_tags = []\n",
    "with open('../labels_100_playlists.json') as json_file:\n",
    "    raw_label = json.load(json_file)\n",
    "    for i in range(len(raw_label)):\n",
    "        # filter labels with valid features\n",
    "        if i in valid_data_indices:\n",
    "            label = raw_label[i]\n",
    "            label = np.array(list(label.values()))\n",
    "            playlist_tags.append(label)\n",
    "\n",
    "    playlist_tags = np.array(playlist_tags)"
   ]
  },
  {
   "cell_type": "code",
   "execution_count": 107,
   "metadata": {},
   "outputs": [],
   "source": [
    "# train-test split get random indices\n",
    "import random\n",
    "from random import sample\n",
    "random.seed( 209 )\n",
    "test_indices = random.sample(range(0, 66), 7)\n",
    "\n",
    "# split features\n",
    "train_features = []\n",
    "test_features = []\n",
    "for i in range(len(playlist_features)):\n",
    "    if i in test_indices:\n",
    "        test_features.append(playlist_features[i])\n",
    "    else:\n",
    "        train_features.append(playlist_features[i])\n",
    "\n",
    "train_features = np.array(train_features)\n",
    "test_features = np.array(test_features)\n",
    "\n",
    "# split labels\n",
    "train_labels = []\n",
    "test_labels = []\n",
    "for i in range(len(playlist_tags)):\n",
    "    if i in test_indices:\n",
    "        test_labels.append(playlist_tags[i])\n",
    "    else:\n",
    "        train_labels.append(playlist_tags[i])\n",
    "\n",
    "train_labels = np.array(train_labels)\n",
    "test_labels = np.array(test_labels)"
   ]
  },
  {
   "cell_type": "code",
   "execution_count": 108,
   "metadata": {},
   "outputs": [],
   "source": [
    "from tensorflow.keras import layers\n",
    "from tensorflow.keras import models\n",
    "\n",
    "input_shape = train_features[0].shape\n",
    "num_category = train_labels[0].shape[0]\n",
    "\n",
    "##model building\n",
    "cnn_model = models.Sequential()\n",
    "#convolutional layer with rectified linear unit activation\n",
    "cnn_model.add(layers.Conv2D(32, kernel_size=(3, 3),\n",
    "                 activation='relu',\n",
    "                 input_shape=input_shape))\n",
    "#32 convolution filters used each of size 3x3\n",
    "#again\n",
    "cnn_model.add(layers.Conv2D(64, (3, 3), activation='relu'))\n",
    "#64 convolution filters used each of size 3x3\n",
    "#choose the best features via pooling\n",
    "cnn_model.add(layers.MaxPooling2D(pool_size=(2, 2)))\n",
    "#randomly turn neurons on and off to improve convergence\n",
    "cnn_model.add(layers.Dropout(0.25))\n",
    "#flatten since too many dimensions, we only want a classification output\n",
    "cnn_model.add(layers.Flatten())\n",
    "#fully connected to get all relevant data\n",
    "cnn_model.add(layers.Dense(128, activation='relu'))\n",
    "#one more dropout for convergence' sake :) \n",
    "cnn_model.add(layers.Dropout(0.2))\n",
    "#output a softmax to squash the matrix into output probabilities\n",
    "cnn_model.add(layers.Dense(num_category, activation='sigmoid'))"
   ]
  },
  {
   "cell_type": "code",
   "execution_count": 109,
   "metadata": {},
   "outputs": [],
   "source": [
    "# Use adaDelta as the adaptive learning rate\n",
    "cnn_model.compile(loss=tf.keras.losses.binary_crossentropy,\n",
    "              optimizer=tf.keras.optimizers.Adam(),\n",
    "                 metrics = ['accuracy'])"
   ]
  },
  {
   "cell_type": "code",
   "execution_count": 110,
   "metadata": {},
   "outputs": [
    {
     "name": "stdout",
     "output_type": "stream",
     "text": [
      "Train on 59 samples, validate on 7 samples\n",
      "Epoch 1/30\n",
      "59/59 [==============================] - 1s 11ms/sample - loss: 0.6768 - accuracy: 0.2751 - val_loss: 0.5972 - val_accuracy: 0.3577\n",
      "Epoch 2/30\n",
      "59/59 [==============================] - 0s 891us/sample - loss: 0.5740 - accuracy: 0.3439 - val_loss: 0.4591 - val_accuracy: 0.3884\n",
      "Epoch 3/30\n",
      "59/59 [==============================] - 0s 925us/sample - loss: 0.4542 - accuracy: 0.3789 - val_loss: 0.3181 - val_accuracy: 0.4192\n",
      "Epoch 4/30\n",
      "59/59 [==============================] - 0s 857us/sample - loss: 0.3439 - accuracy: 0.4076 - val_loss: 0.2071 - val_accuracy: 0.4526\n",
      "Epoch 5/30\n",
      "59/59 [==============================] - 0s 923us/sample - loss: 0.2558 - accuracy: 0.4349 - val_loss: 0.1293 - val_accuracy: 0.4724\n",
      "Epoch 6/30\n",
      "59/59 [==============================] - 0s 922us/sample - loss: 0.1916 - accuracy: 0.4519 - val_loss: 0.0833 - val_accuracy: 0.4864\n",
      "Epoch 7/30\n",
      "59/59 [==============================] - 0s 903us/sample - loss: 0.1349 - accuracy: 0.4682 - val_loss: 0.0613 - val_accuracy: 0.4896\n",
      "Epoch 8/30\n",
      "59/59 [==============================] - 0s 1ms/sample - loss: 0.1035 - accuracy: 0.4766 - val_loss: 0.0523 - val_accuracy: 0.4896\n",
      "Epoch 9/30\n",
      "59/59 [==============================] - 0s 937us/sample - loss: 0.0826 - accuracy: 0.4809 - val_loss: 0.0483 - val_accuracy: 0.4896\n",
      "Epoch 10/30\n",
      "59/59 [==============================] - 0s 887us/sample - loss: 0.0761 - accuracy: 0.4824 - val_loss: 0.0455 - val_accuracy: 0.4896\n",
      "Epoch 11/30\n",
      "59/59 [==============================] - 0s 865us/sample - loss: 0.0654 - accuracy: 0.4839 - val_loss: 0.0434 - val_accuracy: 0.4896\n",
      "Epoch 12/30\n",
      "59/59 [==============================] - 0s 918us/sample - loss: 0.0610 - accuracy: 0.4844 - val_loss: 0.0418 - val_accuracy: 0.4896\n",
      "Epoch 13/30\n",
      "59/59 [==============================] - 0s 853us/sample - loss: 0.0578 - accuracy: 0.4847 - val_loss: 0.0410 - val_accuracy: 0.4896\n",
      "Epoch 14/30\n",
      "59/59 [==============================] - 0s 871us/sample - loss: 0.0553 - accuracy: 0.4847 - val_loss: 0.0408 - val_accuracy: 0.4896\n",
      "Epoch 15/30\n",
      "59/59 [==============================] - 0s 911us/sample - loss: 0.0555 - accuracy: 0.4848 - val_loss: 0.0407 - val_accuracy: 0.4896\n",
      "Epoch 16/30\n",
      "59/59 [==============================] - 0s 986us/sample - loss: 0.0536 - accuracy: 0.4850 - val_loss: 0.0402 - val_accuracy: 0.4896\n",
      "Epoch 17/30\n",
      "59/59 [==============================] - 0s 908us/sample - loss: 0.0527 - accuracy: 0.4852 - val_loss: 0.0397 - val_accuracy: 0.4896\n",
      "Epoch 18/30\n",
      "59/59 [==============================] - 0s 904us/sample - loss: 0.0509 - accuracy: 0.4852 - val_loss: 0.0394 - val_accuracy: 0.4896\n",
      "Epoch 19/30\n",
      "59/59 [==============================] - 0s 897us/sample - loss: 0.0513 - accuracy: 0.4852 - val_loss: 0.0394 - val_accuracy: 0.4896\n",
      "Epoch 20/30\n",
      "59/59 [==============================] - 0s 834us/sample - loss: 0.0512 - accuracy: 0.4853 - val_loss: 0.0393 - val_accuracy: 0.4896\n",
      "Epoch 21/30\n",
      "59/59 [==============================] - 0s 905us/sample - loss: 0.0495 - accuracy: 0.4852 - val_loss: 0.0390 - val_accuracy: 0.4896\n",
      "Epoch 22/30\n",
      "59/59 [==============================] - 0s 898us/sample - loss: 0.0493 - accuracy: 0.4853 - val_loss: 0.0387 - val_accuracy: 0.4896\n",
      "Epoch 23/30\n",
      "59/59 [==============================] - 0s 886us/sample - loss: 0.0485 - accuracy: 0.4853 - val_loss: 0.0387 - val_accuracy: 0.4896\n",
      "Epoch 24/30\n",
      "59/59 [==============================] - 0s 923us/sample - loss: 0.0490 - accuracy: 0.4853 - val_loss: 0.0387 - val_accuracy: 0.4896\n",
      "Epoch 25/30\n",
      "59/59 [==============================] - 0s 907us/sample - loss: 0.0469 - accuracy: 0.4852 - val_loss: 0.0385 - val_accuracy: 0.4896\n",
      "Epoch 26/30\n",
      "59/59 [==============================] - 0s 893us/sample - loss: 0.0473 - accuracy: 0.4853 - val_loss: 0.0383 - val_accuracy: 0.4896\n",
      "Epoch 27/30\n",
      "59/59 [==============================] - 0s 866us/sample - loss: 0.0482 - accuracy: 0.4853 - val_loss: 0.0381 - val_accuracy: 0.4896\n",
      "Epoch 28/30\n",
      "59/59 [==============================] - 0s 896us/sample - loss: 0.0486 - accuracy: 0.4852 - val_loss: 0.0380 - val_accuracy: 0.4896\n",
      "Epoch 29/30\n",
      "59/59 [==============================] - 0s 921us/sample - loss: 0.0475 - accuracy: 0.4853 - val_loss: 0.0380 - val_accuracy: 0.4896\n",
      "Epoch 30/30\n",
      "59/59 [==============================] - 0s 945us/sample - loss: 0.0471 - accuracy: 0.4853 - val_loss: 0.0379 - val_accuracy: 0.4896\n"
     ]
    }
   ],
   "source": [
    "# Train Model\n",
    "# too few data to have a batch_size\n",
    "batch_size = 5\n",
    "num_epoch = 30\n",
    "model_log = cnn_model.fit(train_features, train_labels,\n",
    "          epochs=num_epoch,\n",
    "          verbose=1,\n",
    "          validation_data=(test_features, test_labels))"
   ]
  },
  {
   "cell_type": "code",
   "execution_count": 111,
   "metadata": {},
   "outputs": [
    {
     "name": "stdout",
     "output_type": "stream",
     "text": [
      "59/1 [==========================================================================================================================================================================================================================================================================================================================================================================================================================================================================================================================================================================================================================================================================================================================================================================================================================================================================================================================================================================================================================================================================================================================================================================================================================================================================================================================================================================================================================================================================================================================================================================================================================================================================================================================================================================================================================================] - 0s 138us/sample - loss: 0.0400 - accuracy: 0.4853\n",
      "[0.04137100689744545, 0.4853396]\n"
     ]
    }
   ],
   "source": [
    "score = cnn_model.evaluate(train_features, train_labels, verbose=1)\n",
    "print(score)"
   ]
  },
  {
   "cell_type": "code",
   "execution_count": 112,
   "metadata": {},
   "outputs": [
    {
     "data": {
      "text/plain": [
       "array([[0.11977851, 0.17834803, 0.07897523, ..., 0.00959024, 0.00188956,\n",
       "        0.00198025],\n",
       "       [0.10152051, 0.15518576, 0.05911651, ..., 0.00617781, 0.00094599,\n",
       "        0.00106183],\n",
       "       [0.10319871, 0.18662894, 0.0691357 , ..., 0.00634164, 0.00103772,\n",
       "        0.00114375],\n",
       "       ...,\n",
       "       [0.17124304, 0.24540654, 0.11427289, ..., 0.02585408, 0.0058116 ,\n",
       "        0.00603634],\n",
       "       [0.10441217, 0.15533176, 0.06189975, ..., 0.00545532, 0.00081649,\n",
       "        0.00097898],\n",
       "       [0.09604675, 0.12648892, 0.04759368, ..., 0.00460861, 0.00056863,\n",
       "        0.00071366]], dtype=float32)"
      ]
     },
     "execution_count": 112,
     "metadata": {},
     "output_type": "execute_result"
    }
   ],
   "source": [
    "cnn_model.predict(train_features)\n",
    "cnn_test_predicted = cnn_model.predict(test_features)\n",
    "cnn_test_predicted"
   ]
  },
  {
   "cell_type": "code",
   "execution_count": 113,
   "metadata": {},
   "outputs": [
    {
     "name": "stdout",
     "output_type": "stream",
     "text": [
      "7/1 [==================================================================================================================================================================================================================] - 0s 482us/sample - loss: 0.0379 - accuracy: 0.4896\n",
      "[0.03793178126215935, 0.4895725]\n"
     ]
    }
   ],
   "source": [
    "score = cnn_model.evaluate(test_features, test_labels, verbose=1)\n",
    "print(score)"
   ]
  },
  {
   "cell_type": "markdown",
   "metadata": {},
   "source": [
    "Now with the probabilities, we can find use k nearest neighbors method to recommend songs for the user with specific playlist. Metric method 1: use the exact predicted probabilities and the normalized weights of the tags of the songs (by dividing 100), compute the mean squared difference. Metric method 2: classifiy the tags into 1 and 0 and compute the distance between the predicted tags and actual tags of the song."
   ]
  },
  {
   "cell_type": "code",
   "execution_count": 140,
   "metadata": {},
   "outputs": [
    {
     "data": {
      "image/png": "[encoded data removed]",
      "text/plain": [
       "<Figure size 432x288 with 2 Axes>"
      ]
     },
     "metadata": {
      "needs_background": "light"
     },
     "output_type": "display_data"
    }
   ],
   "source": [
    "# plotting the metrics\n",
    "fig = pyp.figure()\n",
    "pyp.subplot(2,1,1)\n",
    "pyp.plot(model_log.history['accuracy'])\n",
    "pyp.plot(model_log.history['val_accuracy'])\n",
    "pyp.title('model accuracy')\n",
    "pyp.ylabel('accuracy')\n",
    "pyp.xlabel('epoch')\n",
    "pyp.legend(['train', 'test'], loc='lower right')\n",
    "\n",
    "pyp.subplot(2,1,2)\n",
    "pyp.plot(model_log.history['loss'])\n",
    "pyp.plot(model_log.history['val_loss'])\n",
    "pyp.title('model loss')\n",
    "pyp.ylabel('loss')\n",
    "pyp.xlabel('epoch')\n",
    "pyp.legend(['train', 'test'], loc='upper right')\n",
    "pyp.tight_layout()"
   ]
  },
  {
   "cell_type": "markdown",
   "metadata": {},
   "source": [
    "## Random select a sample that contains candidate songs considered for the recommendation\n"
   ]
  },
  {
   "cell_type": "code",
   "execution_count": 114,
   "metadata": {},
   "outputs": [],
   "source": [
    "\n",
    "# playlists = []\n",
    "# random_indices = np.random.choice([i for i in range(1000)], size = 10)\n",
    "\n",
    "# # load data into pandas dataframe\n",
    "# for idx in random_indices:\n",
    "#     songs_df = pd.read_csv(\"songs/songs{}.csv\".format(idx))\n",
    "\n",
    "#     # get playlists into dictionaries and store in a list\n",
    "\n",
    "#     id_nums = set(songs_df['pid'].tolist())\n",
    "#     songs_df = songs_df.groupby(\"pid\")\n",
    "\n",
    "#     for id in id_nums:\n",
    "#         playlist = songs_df.get_group(id)\n",
    "#         playlists.append(playlist.to_dict())\n",
    "\n",
    "# # store the list of dictionaries into json file\n",
    "# with open('random_playlists', 'w') as fout:\n",
    "#     json.dump(playlists, fout)\n"
   ]
  },
  {
   "cell_type": "markdown",
   "metadata": {},
   "source": [
    "read in random_playlists json file and randomly sample n playlists from the json file"
   ]
  },
  {
   "cell_type": "code",
   "execution_count": 115,
   "metadata": {},
   "outputs": [],
   "source": [
    "\n",
    "# import random\n",
    "\n",
    "# n = 100\n",
    "# with open('random_playlists.json') as json_file:\n",
    "#     data = json.load(json_file)\n",
    "#     random_data = random.sample(data, n)\n",
    "#     #print(len(random_data))\n"
   ]
  },
  {
   "cell_type": "markdown",
   "metadata": {},
   "source": [
    "concatenate pairs of artists and track names of each track into one list"
   ]
  },
  {
   "cell_type": "code",
   "execution_count": 79,
   "metadata": {},
   "outputs": [],
   "source": [
    "\n",
    "# playlists_artist_tracks = []\n",
    "# for playlist in random_data:\n",
    "#     artist_names = list(playlist.get(\"artist_name\").values())\n",
    "#     track_names = list(playlist.get(\"track_name\").values())\n",
    "#     artist_tracks = zip(artist_names, track_names)\n",
    "#     playlists_artist_tracks += list(artist_tracks)\n",
    "# print(len(playlists_artist_tracks))\n"
   ]
  },
  {
   "cell_type": "markdown",
   "metadata": {},
   "source": [
    "get the normalized tag weights of these randomly sampled songs"
   ]
  },
  {
   "cell_type": "code",
   "execution_count": 80,
   "metadata": {},
   "outputs": [],
   "source": [
    "# songs_with_tags = {}\n",
    "\n",
    "# for track in playlists_artist_tracks:\n",
    "#     tag_dict = get_zero_dict()\n",
    "#     tags_with_weights = get_tags_from_track(track[0], track[1])\n",
    "#     if tags_with_weights is not None and len(tags_with_weights) != 0:\n",
    "#         for pair in tags_with_weights:\n",
    "#             tag_dict.update({pair[0]: pair[1]/100.0})\n",
    "#     print(tag_dict)\n",
    "#     songs_with_tags.update({(track[0], track[1]): list(tag_dict.values())})"
   ]
  },
  {
   "cell_type": "markdown",
   "metadata": {},
   "source": [
    "dump to json file"
   ]
  },
  {
   "cell_type": "code",
   "execution_count": 81,
   "metadata": {},
   "outputs": [],
   "source": [
    "# candidates_with_tags = {}\n",
    "\n",
    "# for key_tuple in list(songs_with_tags.keys()):\n",
    "#     #turn tuple of artist_track into 'artist_name*,*track_name'\n",
    "#     candidates_with_tags.update({str(key_tuple[0])+'*,*'+str(key_tuple[1]): songs_with_tags.get(key_tuple)})\n",
    "\n",
    "# with open('candidates_with_tags', 'w') as fout:\n",
    "#     json.dump(candidates_with_tags, fout)\n"
   ]
  },
  {
   "cell_type": "markdown",
   "metadata": {},
   "source": [
    "## KNN Model to recommend songs (Currently using k=1)"
   ]
  },
  {
   "cell_type": "markdown",
   "metadata": {},
   "source": [
    "Songs Recommended by CNN Model"
   ]
  },
  {
   "cell_type": "code",
   "execution_count": 82,
   "metadata": {},
   "outputs": [],
   "source": [
    "#read in json file as dictionary\n",
    "with open('../candidates_with_tags.json') as json_file:\n",
    "    data = json.load(json_file)\n",
    "songs_with_tags = data"
   ]
  },
  {
   "cell_type": "code",
   "execution_count": 83,
   "metadata": {},
   "outputs": [],
   "source": [
    "# INPUT: tags for candidate songs, and the predicted tags of one playlist in the test dataset from a model\n",
    "# OUTPUT: a song recommendation\n",
    "def make_recommendation(candidate_tags, playlist_predicted_tag, random_songs):    \n",
    "    min_distance = float('inf');\n",
    "    rec = -1;\n",
    "    for c in range(len(candidate_tags)):\n",
    "        candidate = list(random_songs.values())[c]\n",
    "        #each_distance = sum((np.array(candidate) - np.array(playlist_predicted_tag)) ** 2)\n",
    "        each_distance = sum((candidate - playlist_predicted_tag) ** 2)\n",
    "        if each_distance < min_distance:\n",
    "            min_distance = each_distance;\n",
    "            rec = c;\n",
    "    return rec;"
   ]
  },
  {
   "cell_type": "code",
   "execution_count": 84,
   "metadata": {},
   "outputs": [
    {
     "name": "stdout",
     "output_type": "stream",
     "text": [
      "[4, 4, 4, 4, 4567, 4, 4]\n"
     ]
    }
   ],
   "source": [
    "### Predict by KNN ### \n",
    "candidate_tags = list(songs_with_tags.keys())\n",
    "recommendations = []\n",
    "\n",
    "test_predicted = cnn_test_predicted\n",
    "\n",
    "#playlists_artist_tracks can be replaced by accessing the dumped json file \"candidates_with_tags\"\n",
    "playlists_artist_tracks = songs_with_tags\n",
    "random_songs = playlists_artist_tracks\n",
    "\n",
    "for each_playlist_predicted_tag in test_predicted:\n",
    "#     print(each_playlist_predicted_tag)\n",
    "    rec_for_test = make_recommendation(candidate_tags, each_playlist_predicted_tag, random_songs)\n",
    "    recommendations.append(rec_for_test)\n",
    "print(recommendations)"
   ]
  },
  {
   "cell_type": "code",
   "execution_count": 85,
   "metadata": {},
   "outputs": [
    {
     "name": "stdout",
     "output_type": "stream",
     "text": [
      "[('Disclosure', 'Omen - Radio Edit'), ('Disclosure', 'Omen - Radio Edit'), ('Disclosure', 'Omen - Radio Edit'), ('Disclosure', 'Omen - Radio Edit'), ('2 LIVE CREW', 'Mega Mixx Iii'), ('Disclosure', 'Omen - Radio Edit'), ('Disclosure', 'Omen - Radio Edit')]\n"
     ]
    }
   ],
   "source": [
    "songs_recommended = [];\n",
    "for rec in recommendations:\n",
    "    rec_track = tuple(candidate_tags[rec].split(\"*,*\"))\n",
    "    songs_recommended.append(rec_track)\n",
    "print(songs_recommended)"
   ]
  }
 ],
 "metadata": {
  "kernelspec": {
   "display_name": "Python 3",
   "language": "python",
   "name": "python3"
  },
  "language_info": {
   "codemirror_mode": {
    "name": "ipython",
    "version": 3
   },
   "file_extension": ".py",
   "mimetype": "text/x-python",
   "name": "python",
   "nbconvert_exporter": "python",
   "pygments_lexer": "ipython3",
   "version": "3.7.3"
  }
 },
 "nbformat": 4,
 "nbformat_minor": 2
}
