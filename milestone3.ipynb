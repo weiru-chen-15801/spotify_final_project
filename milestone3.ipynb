{
 "cells": [
  {
   "cell_type": "code",
   "execution_count": 59,
   "metadata": {},
   "outputs": [],
   "source": [
    "import numpy as np\n",
    "import tensorflow as tf\n",
    "import pandas as pd\n",
    "import pylast\n",
    "from tensorflow.keras import datasets, layers, models\n",
    "import matplotlib.pyplot as plt\n",
    "import json\n",
    "import random"
   ]
  },
  {
   "cell_type": "code",
   "execution_count": 60,
   "metadata": {},
   "outputs": [
    {
     "name": "stdout",
     "output_type": "stream",
     "text": [
      "67\n"
     ]
    },
    {
     "data": {
      "text/plain": [
       "(67, 30, 13, 1)"
      ]
     },
     "execution_count": 60,
     "metadata": {},
     "output_type": "execute_result"
    }
   ],
   "source": [
    "playlist_features = []\n",
    "valid_data_indices = []\n",
    "for i in range(0, 100):\n",
    "    feature_sing = pd.read_csv(\"./playlists/df_playlist_features_\" + str(i) + \".csv\")\n",
    "    feature_sing = feature_sing.drop(columns=['track_name', 'artist', 'id','Unnamed: 0'])\n",
    "    feature_sing = feature_sing.to_numpy()\n",
    "    num_songs = feature_sing.shape[0]\n",
    "    if (num_songs >= 30):\n",
    "        valid_data_indices.append(i)\n",
    "        playlist_features.append(feature_sing[:30, ].reshape((30, 13, 1)))\n",
    "playlist_features = np.array(playlist_features)\n",
    "print(len(valid_data_indices))\n",
    "playlist_features.shape"
   ]
  },
  {
   "cell_type": "code",
   "execution_count": 44,
   "metadata": {},
   "outputs": [],
   "source": [
    "# model = models.Sequential()\n",
    "# model.add(layers.Conv2D(32, (3, 3), activation='relu', input_shape=(32, 32, 3)))\n",
    "# model.add(layers.MaxPooling2D((2, 2)))\n",
    "# model.add(layers.Conv2D(64, (3, 3), activation='relu'))\n",
    "# model.add(layers.MaxPooling2D((2, 2)))\n",
    "# model.add(layers.Conv2D(64, (3, 3), activation='relu'))\n",
    "\n",
    "# model.summary()\n"
   ]
  },
  {
   "cell_type": "code",
   "execution_count": 66,
   "metadata": {},
   "outputs": [
    {
     "name": "stdout",
     "output_type": "stream",
     "text": [
      "(67, 274)\n"
     ]
    }
   ],
   "source": [
    "# read in labels\n",
    "playlist_tags = []\n",
    "with open('labels_100_playlists.json') as json_file:\n",
    "    raw_label = json.load(json_file)\n",
    "    for i in range(len(raw_label)):\n",
    "        # filter labels with valid features\n",
    "        if i in valid_data_indices:\n",
    "            label = raw_label[i]\n",
    "            label = np.array(list(label.values()))\n",
    "#             label = label.reshape((-1, 1))\n",
    "            playlist_tags.append(label)\n",
    "\n",
    "    playlist_tags = np.array(playlist_tags)\n",
    "    print(playlist_tags.shape)"
   ]
  },
  {
   "cell_type": "code",
   "execution_count": 97,
   "metadata": {},
   "outputs": [
    {
     "name": "stdout",
     "output_type": "stream",
     "text": [
      "[2, 21, 36, 5, 41, 43, 11]\n"
     ]
    }
   ],
   "source": [
    "# train-test split get random indices\n",
    "random.seed( 209 )\n",
    "test_indices = random.sample(range(0, 66), 7)\n",
    "print(test_indices)\n",
    "\n",
    "# split features\n",
    "train_features = []\n",
    "test_features = []\n",
    "for i in range(len(playlist_features)):\n",
    "    if i in test_indices:\n",
    "        test_features.append(playlist_features[i])\n",
    "    else:\n",
    "        train_features.append(playlist_features[i])\n",
    "\n",
    "train_features = np.array(train_features)\n",
    "test_features = np.array(test_features)\n",
    "\n",
    "# split labels\n",
    "train_labels = []\n",
    "test_labels = []\n",
    "for i in range(len(playlist_tags)):\n",
    "    if i in test_indices:\n",
    "        test_labels.append(playlist_tags[i])\n",
    "    else:\n",
    "        train_labels.append(playlist_tags[i])\n",
    "\n",
    "train_labels = np.array(train_labels)\n",
    "test_labels = np.array(test_labels)"
   ]
  },
  {
   "cell_type": "code",
   "execution_count": 98,
   "metadata": {},
   "outputs": [
    {
     "name": "stdout",
     "output_type": "stream",
     "text": [
      "Model: \"sequential_13\"\n",
      "_________________________________________________________________\n",
      "Layer (type)                 Output Shape              Param #   \n",
      "=================================================================\n",
      "conv2d_22 (Conv2D)           (None, 28, 11, 32)        320       \n",
      "_________________________________________________________________\n",
      "conv2d_23 (Conv2D)           (None, 26, 9, 64)         18496     \n",
      "_________________________________________________________________\n",
      "max_pooling2d_12 (MaxPooling (None, 13, 4, 64)         0         \n",
      "_________________________________________________________________\n",
      "dropout_15 (Dropout)         (None, 13, 4, 64)         0         \n",
      "_________________________________________________________________\n",
      "flatten_8 (Flatten)          (None, 3328)              0         \n",
      "_________________________________________________________________\n",
      "dense_13 (Dense)             (None, 128)               426112    \n",
      "_________________________________________________________________\n",
      "dropout_16 (Dropout)         (None, 128)               0         \n",
      "_________________________________________________________________\n",
      "dense_14 (Dense)             (None, 274)               35346     \n",
      "=================================================================\n",
      "Total params: 480,274\n",
      "Trainable params: 480,274\n",
      "Non-trainable params: 0\n",
      "_________________________________________________________________\n"
     ]
    }
   ],
   "source": [
    "# build CNN structure\n",
    "input_shape = train_features[0].shape\n",
    "num_category = train_labels[0].shape[0]\n",
    "\n",
    "# model building\n",
    "model = models.Sequential()\n",
    "#convolutional layer with rectified linear unit activation\n",
    "model.add(layers.Conv2D(32, kernel_size=(3, 3),\n",
    "                 activation='relu',\n",
    "                 input_shape=input_shape))\n",
    "#32 convolution filters with each size 3x3\n",
    "model.add(layers.Conv2D(64, (3, 3), activation='relu'))\n",
    "#64 convolution filters used each of size 3x3\n",
    "#choose the best features by adding a pooling layer\n",
    "model.add(layers.MaxPooling2D(pool_size=(2, 2)))\n",
    "#randomly turn neurons on and off to improve convergence\n",
    "model.add(layers.Dropout(0.25))\n",
    "#flatten layer\n",
    "model.add(layers.Flatten())\n",
    "#fully connected to get all relevant data\n",
    "model.add(layers.Dense(128, activation='relu'))\n",
    "#one more dropout for convergence\n",
    "model.add(layers.Dropout(0.5))\n",
    "#output multiple sigmoid to generate output probabilities\n",
    "model.add(layers.Dense(num_category, activation='sigmoid'))\n",
    "\n",
    "model.summary()"
   ]
  },
  {
   "cell_type": "code",
   "execution_count": 99,
   "metadata": {},
   "outputs": [],
   "source": [
    "# Use adaDelta as the adaptive learning rate\n",
    "model.compile(loss=tf.keras.losses.squared_hinge,\n",
    "              optimizer=tf.keras.optimizers.Adadelta(),\n",
    "              metrics=['accuracy'])"
   ]
  },
  {
   "cell_type": "code",
   "execution_count": 100,
   "metadata": {},
   "outputs": [
    {
     "name": "stdout",
     "output_type": "stream",
     "text": [
      "Train on 60 samples, validate on 7 samples\n",
      "Epoch 1/10\n",
      "60/60 [==============================] - 1s 8ms/sample - loss: nan - accuracy: 0.1000 - val_loss: nan - val_accuracy: 0.0000e+00\n",
      "Epoch 2/10\n",
      "60/60 [==============================] - 0s 908us/sample - loss: nan - accuracy: 0.1167 - val_loss: nan - val_accuracy: 0.0000e+00\n",
      "Epoch 3/10\n",
      "60/60 [==============================] - 0s 828us/sample - loss: nan - accuracy: 0.1167 - val_loss: nan - val_accuracy: 0.0000e+00\n",
      "Epoch 4/10\n",
      "60/60 [==============================] - 0s 849us/sample - loss: nan - accuracy: 0.1167 - val_loss: nan - val_accuracy: 0.0000e+00\n",
      "Epoch 5/10\n",
      "60/60 [==============================] - 0s 821us/sample - loss: nan - accuracy: 0.1167 - val_loss: nan - val_accuracy: 0.0000e+00\n",
      "Epoch 6/10\n",
      "60/60 [==============================] - 0s 826us/sample - loss: nan - accuracy: 0.1167 - val_loss: nan - val_accuracy: 0.0000e+00\n",
      "Epoch 7/10\n",
      "60/60 [==============================] - 0s 845us/sample - loss: nan - accuracy: 0.1167 - val_loss: nan - val_accuracy: 0.0000e+00\n",
      "Epoch 8/10\n",
      "60/60 [==============================] - 0s 815us/sample - loss: nan - accuracy: 0.1167 - val_loss: nan - val_accuracy: 0.0000e+00\n",
      "Epoch 9/10\n",
      "60/60 [==============================] - 0s 822us/sample - loss: nan - accuracy: 0.1167 - val_loss: nan - val_accuracy: 0.0000e+00\n",
      "Epoch 10/10\n",
      "60/60 [==============================] - 0s 857us/sample - loss: nan - accuracy: 0.1167 - val_loss: nan - val_accuracy: 0.0000e+00\n"
     ]
    }
   ],
   "source": [
    "# Train Model\n",
    "# too few data to have a batch_size\n",
    "#batch_size = 128\n",
    "num_epoch = 10\n",
    "#model training\n",
    "model_log = model.fit(train_features, train_labels,\n",
    "          epochs=num_epoch,\n",
    "          verbose=1,\n",
    "          validation_data=(test_features, test_labels))"
   ]
  },
  {
   "cell_type": "code",
   "execution_count": 101,
   "metadata": {},
   "outputs": [
    {
     "name": "stdout",
     "output_type": "stream",
     "text": [
      "60/1 [========================================================================================================================================================================================================================================================================================================================================================================================================================================================================================================================================================================================================================================================================================================================================================================================================================================================================================================================================================================================================================================================================================================================================================================================================================================================================================================================================================================================================================================================================================================================================================================================================================================================================================================================================================================================================================================================================] - 0s 204us/sample - loss: nan - accuracy: 0.1167\n",
      "[nan, 0.11666667]\n",
      "Train loss: nan\n",
      "Train accuracy: 0.11666667\n"
     ]
    }
   ],
   "source": [
    "score = model.evaluate(train_features, train_labels, verbose=1)\n",
    "print(score)\n",
    "print('Train loss:', score[0]) \n",
    "print('Train accuracy:', score[1]) "
   ]
  },
  {
   "cell_type": "code",
   "execution_count": null,
   "metadata": {},
   "outputs": [],
   "source": []
  },
  {
   "cell_type": "code",
   "execution_count": null,
   "metadata": {},
   "outputs": [],
   "source": []
  }
 ],
 "metadata": {
  "kernelspec": {
   "display_name": "Python 3",
   "language": "python",
   "name": "python3"
  },
  "language_info": {
   "codemirror_mode": {
    "name": "ipython",
    "version": 3
   },
   "file_extension": ".py",
   "mimetype": "text/x-python",
   "name": "python",
   "nbconvert_exporter": "python",
   "pygments_lexer": "ipython3",
   "version": "3.7.3"
  }
 },
 "nbformat": 4,
 "nbformat_minor": 2
}
